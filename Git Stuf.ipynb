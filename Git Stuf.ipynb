{
 "cells": [
  {
   "cell_type": "code",
   "execution_count": 10,
   "metadata": {},
   "outputs": [],
   "source": [
    "!git add ."
   ]
  },
  {
   "cell_type": "code",
   "execution_count": 11,
   "metadata": {},
   "outputs": [
    {
     "name": "stdout",
     "output_type": "stream",
     "text": [
      "[master 5123fccc] added dataset\r\n",
      " 3 files changed, 0 insertions(+), 0 deletions(-)\r\n",
      " rename .ipynb_checkpoints/{Untitled-checkpoint.ipynb => Git Stuf-checkpoint.ipynb} (100%)\r\n",
      " rename Untitled.ipynb => Git Stuf.ipynb (100%)\r\n",
      " create mode 100644 backend/dataset.xlsx\r\n"
     ]
    }
   ],
   "source": [
    "!git commit -m \"added dataset\""
   ]
  },
  {
   "cell_type": "code",
   "execution_count": 12,
   "metadata": {},
   "outputs": [
    {
     "name": "stdout",
     "output_type": "stream",
     "text": [
      "Enumerating objects: 7, done.\n",
      "Counting objects: 100% (7/7), done.\n",
      "Delta compression using up to 8 threads\n",
      "Compressing objects: 100% (4/4), done.\n",
      "Writing objects: 100% (5/5), 852.00 KiB | 32.77 MiB/s, done.\n",
      "Total 5 (delta 0), reused 0 (delta 0), pack-reused 0\n",
      "To https://github.com/pranavnt/TweetCheckr.git\n",
      "   e05e4a9d..5123fccc  master -> master\n",
      "Branch 'master' set up to track remote branch 'master' from 'origin'.\n"
     ]
    }
   ],
   "source": [
    "!git push -u origin master"
   ]
  },
  {
   "cell_type": "code",
   "execution_count": null,
   "metadata": {},
   "outputs": [],
   "source": []
  }
 ],
 "metadata": {
  "kernelspec": {
   "display_name": "Python 3",
   "language": "python",
   "name": "python3"
  },
  "language_info": {
   "codemirror_mode": {
    "name": "ipython",
    "version": 3
   },
   "file_extension": ".py",
   "mimetype": "text/x-python",
   "name": "python",
   "nbconvert_exporter": "python",
   "pygments_lexer": "ipython3",
   "version": "3.7.6"
  }
 },
 "nbformat": 4,
 "nbformat_minor": 4
}
