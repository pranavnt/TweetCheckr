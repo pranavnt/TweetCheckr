{
 "cells": [
  {
   "cell_type": "code",
   "execution_count": 31,
   "metadata": {},
   "outputs": [],
   "source": [
    "!git add ."
   ]
  },
  {
   "cell_type": "code",
   "execution_count": 32,
   "metadata": {},
   "outputs": [
    {
     "name": "stdout",
     "output_type": "stream",
     "text": [
      "[master bf44c574] added tweet-modeling (abt to try various bert architectures)\n",
      " 5 files changed, 89 insertions(+), 20 deletions(-)\n",
      " create mode 100644 backend/.ipynb_checkpoints/tweet-modeling-checkpoint.ipynb\n",
      " rename backend/.ipynb_checkpoints/{tweet_preprocessing-checkpoint.ipynb => tweet-preprocessing-checkpoint.ipynb} (100%)\n",
      " create mode 100644 backend/tweet-modeling.ipynb\n",
      " rename backend/{tweet_preprocessing.ipynb => tweet-preprocessing.ipynb} (100%)\n"
     ]
    }
   ],
   "source": [
    "!git commit -m \"added tweet-modeling (abt to try various bert architectures)\""
   ]
  },
  {
   "cell_type": "code",
   "execution_count": 33,
   "metadata": {
    "scrolled": true
   },
   "outputs": [
    {
     "name": "stdout",
     "output_type": "stream",
     "text": [
      "Enumerating objects: 11, done.\n",
      "Counting objects: 100% (11/11), done.\n",
      "Delta compression using up to 8 threads\n",
      "Compressing objects: 100% (7/7), done.\n",
      "Writing objects: 100% (7/7), 1.46 KiB | 1.46 MiB/s, done.\n",
      "Total 7 (delta 3), reused 0 (delta 0), pack-reused 0\n",
      "remote: Resolving deltas: 100% (3/3), completed with 2 local objects.\u001b[K\n",
      "To https://github.com/pranavnt/TweetCheckr.git\n",
      "   36741502..bf44c574  master -> master\n",
      "Branch 'master' set up to track remote branch 'master' from 'origin'.\n"
     ]
    }
   ],
   "source": [
    "!git push -u origin master"
   ]
  },
  {
   "cell_type": "code",
   "execution_count": null,
   "metadata": {},
   "outputs": [],
   "source": []
  }
 ],
 "metadata": {
  "kernelspec": {
   "display_name": "Python 3",
   "language": "python",
   "name": "python3"
  },
  "language_info": {
   "codemirror_mode": {
    "name": "ipython",
    "version": 3
   },
   "file_extension": ".py",
   "mimetype": "text/x-python",
   "name": "python",
   "nbconvert_exporter": "python",
   "pygments_lexer": "ipython3",
   "version": "3.7.6"
  }
 },
 "nbformat": 4,
 "nbformat_minor": 4
}
