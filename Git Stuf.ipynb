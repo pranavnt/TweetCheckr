{
 "cells": [
  {
   "cell_type": "code",
   "execution_count": 27,
   "metadata": {},
   "outputs": [],
   "source": [
    "!git add ."
   ]
  },
  {
   "cell_type": "code",
   "execution_count": 28,
   "metadata": {},
   "outputs": [
    {
     "name": "stdout",
     "output_type": "stream",
     "text": [
      "[master 36741502] finished owrk on tweet_preprocessing.ipynb\r\n",
      " 5 files changed, 921 insertions(+), 255 deletions(-)\r\n",
      " delete mode 100644 backend/.ipynb_checkpoints/tweet_classifier-checkpoint.ipynb\r\n",
      " rename backend/{tweet_classifier.ipynb => .ipynb_checkpoints/tweet_preprocessing-checkpoint.ipynb} (93%)\r\n",
      " create mode 100644 backend/dataset.csv\r\n",
      " create mode 100644 backend/tweet_preprocessing.ipynb\r\n"
     ]
    }
   ],
   "source": [
    "!git commit -m \"finished owrk on tweet_preprocessing.ipynb\""
   ]
  },
  {
   "cell_type": "code",
   "execution_count": 29,
   "metadata": {
    "scrolled": true
   },
   "outputs": [
    {
     "name": "stdout",
     "output_type": "stream",
     "text": [
      "Enumerating objects: 11, done.\n",
      "Counting objects: 100% (11/11), done.\n",
      "Delta compression using up to 8 threads\n",
      "Compressing objects: 100% (7/7), done.\n",
      "Writing objects: 100% (7/7), 14.70 KiB | 4.90 MiB/s, done.\n",
      "Total 7 (delta 1), reused 0 (delta 0), pack-reused 0\n",
      "remote: Resolving deltas: 100% (1/1), completed with 1 local object.\u001b[K\n",
      "To https://github.com/pranavnt/TweetCheckr.git\n",
      "   ebbfc24a..36741502  master -> master\n",
      "Branch 'master' set up to track remote branch 'master' from 'origin'.\n"
     ]
    }
   ],
   "source": [
    "!git push -u origin master"
   ]
  }
 ],
 "metadata": {
  "kernelspec": {
   "display_name": "Python 3",
   "language": "python",
   "name": "python3"
  },
  "language_info": {
   "codemirror_mode": {
    "name": "ipython",
    "version": 3
   },
   "file_extension": ".py",
   "mimetype": "text/x-python",
   "name": "python",
   "nbconvert_exporter": "python",
   "pygments_lexer": "ipython3",
   "version": "3.7.6"
  }
 },
 "nbformat": 4,
 "nbformat_minor": 4
}
