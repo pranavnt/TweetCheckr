{
 "cells": [
  {
   "cell_type": "code",
   "execution_count": 34,
   "metadata": {},
   "outputs": [],
   "source": [
    "import numpy as np\n",
    "import pandas as pd\n",
    "from matplotlib import pyplot as plt \n",
    "import seaborn as sns\n",
    "\n",
    "sns.set()"
   ]
  },
  {
   "cell_type": "code",
   "execution_count": 35,
   "metadata": {},
   "outputs": [],
   "source": [
    "data = pd.read_csv('dataset.csv')"
   ]
  },
  {
   "cell_type": "code",
   "execution_count": 36,
   "metadata": {},
   "outputs": [],
   "source": [
    "data = data.sample(frac=1).reset_index(drop=True)"
   ]
  },
  {
   "cell_type": "code",
   "execution_count": 37,
   "metadata": {},
   "outputs": [],
   "source": [
    "columns_titles = [\"Tweet\", \"Label\"]\n",
    "data = data.reindex(columns=columns_titles)"
   ]
  },
  {
   "cell_type": "code",
   "execution_count": 38,
   "metadata": {},
   "outputs": [],
   "source": [
    "train_data = data.head(int(225*0.8))"
   ]
  },
  {
   "cell_type": "code",
   "execution_count": 39,
   "metadata": {},
   "outputs": [],
   "source": [
    "test_data = data.tail(int(225*0.2))"
   ]
  },
  {
   "cell_type": "code",
   "execution_count": 40,
   "metadata": {},
   "outputs": [
    {
     "output_type": "display_data",
     "data": {
      "text/plain": "                                                 Tweet  Label\n0    @_10kanee @spectatorindex BREAKING: Coronaviru...      0\n1    RT @10News: Amid coronavirus outbreak, thousan...      1\n2    RT @Independent: Hong Kong hospital workers st...      1\n3    RT @The_World_Is_Y: #coronavirus  #chinaflu  #...      0\n4    RT @alfonslopeztena: The political cost of the...      1\n..                                                 ...    ...\n175  RT @business: Here's the latest on coronavirus...      0\n176  RT @AJEnglish: Why anger over the Hong Kong go...      1\n177  RT @guardian: Chinas response to coronavirus e...      1\n178  RT @ChannelNewsAsia: Hong Kong medical workers...      0\n179  RT @alfonslopeztena: Hundreds of Hong Kong med...      1\n\n[180 rows x 2 columns]",
      "text/html": "<div>\n<style scoped>\n    .dataframe tbody tr th:only-of-type {\n        vertical-align: middle;\n    }\n\n    .dataframe tbody tr th {\n        vertical-align: top;\n    }\n\n    .dataframe thead th {\n        text-align: right;\n    }\n</style>\n<table border=\"1\" class=\"dataframe\">\n  <thead>\n    <tr style=\"text-align: right;\">\n      <th></th>\n      <th>Tweet</th>\n      <th>Label</th>\n    </tr>\n  </thead>\n  <tbody>\n    <tr>\n      <th>0</th>\n      <td>@_10kanee @spectatorindex BREAKING: Coronaviru...</td>\n      <td>0</td>\n    </tr>\n    <tr>\n      <th>1</th>\n      <td>RT @10News: Amid coronavirus outbreak, thousan...</td>\n      <td>1</td>\n    </tr>\n    <tr>\n      <th>2</th>\n      <td>RT @Independent: Hong Kong hospital workers st...</td>\n      <td>1</td>\n    </tr>\n    <tr>\n      <th>3</th>\n      <td>RT @The_World_Is_Y: #coronavirus  #chinaflu  #...</td>\n      <td>0</td>\n    </tr>\n    <tr>\n      <th>4</th>\n      <td>RT @alfonslopeztena: The political cost of the...</td>\n      <td>1</td>\n    </tr>\n    <tr>\n      <th>...</th>\n      <td>...</td>\n      <td>...</td>\n    </tr>\n    <tr>\n      <th>175</th>\n      <td>RT @business: Here's the latest on coronavirus...</td>\n      <td>0</td>\n    </tr>\n    <tr>\n      <th>176</th>\n      <td>RT @AJEnglish: Why anger over the Hong Kong go...</td>\n      <td>1</td>\n    </tr>\n    <tr>\n      <th>177</th>\n      <td>RT @guardian: Chinas response to coronavirus e...</td>\n      <td>1</td>\n    </tr>\n    <tr>\n      <th>178</th>\n      <td>RT @ChannelNewsAsia: Hong Kong medical workers...</td>\n      <td>0</td>\n    </tr>\n    <tr>\n      <th>179</th>\n      <td>RT @alfonslopeztena: Hundreds of Hong Kong med...</td>\n      <td>1</td>\n    </tr>\n  </tbody>\n</table>\n<p>180 rows × 2 columns</p>\n</div>"
     },
     "metadata": {}
    },
    {
     "output_type": "display_data",
     "data": {
      "text/plain": "                                                 Tweet  Label\n181  RT @YohendrisQ: @DeZurdaTeam @DiazCanelB @mart...      1\n182  RT @washingtonpost: Facing coronavirus threat,...      0\n183  RT @ABC: Hundreds of Hong Kong hospital worker...      1\n184  RT @nytimesworld: Top officials in Southeast A...      1\n185  RT @AJEnglish: Why anger over the Hong Kong go...      1\n186  RT @FOCUS_TopNews: China hat nach internationa...      1\n187  \"RT @QuickTake: \"\"If the government does not s...      0\n188  RT @Erik32480523: @VictoriaALC @DeZurdaTeam @D...      1\n189  \"RT @NPR: One doctor in Hong Kong says he unde...      1\n190  RT @vilmadiazcuba: @DeZurdaTeam @DiazCanelB @m...      0\n191  RT @annafifield: A person has died of coronavi...      1\n192  RT @ReutersChina: Hong Kong reports first coro...      0\n193  RT @HawleyMO: #China thinks efforts to stop #c...      0\n194  RT @estevez_damiana: @DeZurdaTeam @DiazCanelB ...      0\n195  RT @nytimes: In the middle of the coronavirus ...      0\n196  RT @GreysGomez3: @DeZurdaTeam @DiazCanelB @mar...      0\n197  RT @globalnews: More than 2,000 hospital worke...      1\n198  \"RT @NPR: One doctor in Hong Kong says he unde...      1\n199  RT @Independent: Hong Kong hospital workers st...      1\n200  RT @AJEnglish: Why anger over the Hong Kong go...      1\n201  RT @alvertoas: China confirma que el coronavir...      0\n202  RT @EmbaixadaChina: 1/3 | Ontem em conversa co...      0\n203  RT @_dblancog: @DeZurdaTeam @DiazCanelB @marti...      1\n204  RT @gustavoviloriar: El ministro @AlvaradoC_MP...      0\n205  RT @estevez_damiana: @DeZurdaTeam @DiazCanelB ...      1\n206  RT @alfonslopeztena: Hundreds of Hong Kong med...      1\n207  RT @ScottyMom8: @OnlyNomaly @ShanghaiEye @shan...      0\n208  RT @Independent: Hong Kong hospital workers st...      1\n209  RT @ABCWorldNews: Hundreds of Hong Kong hospit...      1\n210  RT @SkyNews: As Hong Kong faces #coronavirus, ...      1\n211  RT @ChalecosAmarill:  #CoronaVirus  Japn pone ...      0\n212  RT @THR: As cases of the coronavirus continue ...      0\n213  RT @balajis: The #coronavirus has now killed m...      0\n214  RT @nytimes: Dr. Li Wenliang warned colleagues...      0\n215  RT @AFP: Hong Kong medical workers strike, dem...      0\n216  @DeZurdaTeam @DiazCanelB @marti160patria @SecU...      0\n217  RT @alejandrasuart4: @DeZurdaTeam @DiazCanelB ...      1\n218  RT @WTKR3: #Coronavirus: Thousands of Hong Kon...      1\n219  RT @Cesar_Gigante: @DeZurdaTeam @DiazCanelB @m...      1\n220  RT @globalnews: More than 2,000 hospital worke...      1\n221  RT @Fight4HongKong: #CarrieLam: Government off...      1\n222  RT @Cesar_Gigante: @DeZurdaTeam @DiazCanelB @m...      1\n223  RT @Independent: Hong Kong hospital workers st...      1\n224  RT @howroute: Hainan Province, China - police ...      0\n225  RT @TheAtlantic: Growing numbers of people in ...      1",
      "text/html": "<div>\n<style scoped>\n    .dataframe tbody tr th:only-of-type {\n        vertical-align: middle;\n    }\n\n    .dataframe tbody tr th {\n        vertical-align: top;\n    }\n\n    .dataframe thead th {\n        text-align: right;\n    }\n</style>\n<table border=\"1\" class=\"dataframe\">\n  <thead>\n    <tr style=\"text-align: right;\">\n      <th></th>\n      <th>Tweet</th>\n      <th>Label</th>\n    </tr>\n  </thead>\n  <tbody>\n    <tr>\n      <th>181</th>\n      <td>RT @YohendrisQ: @DeZurdaTeam @DiazCanelB @mart...</td>\n      <td>1</td>\n    </tr>\n    <tr>\n      <th>182</th>\n      <td>RT @washingtonpost: Facing coronavirus threat,...</td>\n      <td>0</td>\n    </tr>\n    <tr>\n      <th>183</th>\n      <td>RT @ABC: Hundreds of Hong Kong hospital worker...</td>\n      <td>1</td>\n    </tr>\n    <tr>\n      <th>184</th>\n      <td>RT @nytimesworld: Top officials in Southeast A...</td>\n      <td>1</td>\n    </tr>\n    <tr>\n      <th>185</th>\n      <td>RT @AJEnglish: Why anger over the Hong Kong go...</td>\n      <td>1</td>\n    </tr>\n    <tr>\n      <th>186</th>\n      <td>RT @FOCUS_TopNews: China hat nach internationa...</td>\n      <td>1</td>\n    </tr>\n    <tr>\n      <th>187</th>\n      <td>\"RT @QuickTake: \"\"If the government does not s...</td>\n      <td>0</td>\n    </tr>\n    <tr>\n      <th>188</th>\n      <td>RT @Erik32480523: @VictoriaALC @DeZurdaTeam @D...</td>\n      <td>1</td>\n    </tr>\n    <tr>\n      <th>189</th>\n      <td>\"RT @NPR: One doctor in Hong Kong says he unde...</td>\n      <td>1</td>\n    </tr>\n    <tr>\n      <th>190</th>\n      <td>RT @vilmadiazcuba: @DeZurdaTeam @DiazCanelB @m...</td>\n      <td>0</td>\n    </tr>\n    <tr>\n      <th>191</th>\n      <td>RT @annafifield: A person has died of coronavi...</td>\n      <td>1</td>\n    </tr>\n    <tr>\n      <th>192</th>\n      <td>RT @ReutersChina: Hong Kong reports first coro...</td>\n      <td>0</td>\n    </tr>\n    <tr>\n      <th>193</th>\n      <td>RT @HawleyMO: #China thinks efforts to stop #c...</td>\n      <td>0</td>\n    </tr>\n    <tr>\n      <th>194</th>\n      <td>RT @estevez_damiana: @DeZurdaTeam @DiazCanelB ...</td>\n      <td>0</td>\n    </tr>\n    <tr>\n      <th>195</th>\n      <td>RT @nytimes: In the middle of the coronavirus ...</td>\n      <td>0</td>\n    </tr>\n    <tr>\n      <th>196</th>\n      <td>RT @GreysGomez3: @DeZurdaTeam @DiazCanelB @mar...</td>\n      <td>0</td>\n    </tr>\n    <tr>\n      <th>197</th>\n      <td>RT @globalnews: More than 2,000 hospital worke...</td>\n      <td>1</td>\n    </tr>\n    <tr>\n      <th>198</th>\n      <td>\"RT @NPR: One doctor in Hong Kong says he unde...</td>\n      <td>1</td>\n    </tr>\n    <tr>\n      <th>199</th>\n      <td>RT @Independent: Hong Kong hospital workers st...</td>\n      <td>1</td>\n    </tr>\n    <tr>\n      <th>200</th>\n      <td>RT @AJEnglish: Why anger over the Hong Kong go...</td>\n      <td>1</td>\n    </tr>\n    <tr>\n      <th>201</th>\n      <td>RT @alvertoas: China confirma que el coronavir...</td>\n      <td>0</td>\n    </tr>\n    <tr>\n      <th>202</th>\n      <td>RT @EmbaixadaChina: 1/3 | Ontem em conversa co...</td>\n      <td>0</td>\n    </tr>\n    <tr>\n      <th>203</th>\n      <td>RT @_dblancog: @DeZurdaTeam @DiazCanelB @marti...</td>\n      <td>1</td>\n    </tr>\n    <tr>\n      <th>204</th>\n      <td>RT @gustavoviloriar: El ministro @AlvaradoC_MP...</td>\n      <td>0</td>\n    </tr>\n    <tr>\n      <th>205</th>\n      <td>RT @estevez_damiana: @DeZurdaTeam @DiazCanelB ...</td>\n      <td>1</td>\n    </tr>\n    <tr>\n      <th>206</th>\n      <td>RT @alfonslopeztena: Hundreds of Hong Kong med...</td>\n      <td>1</td>\n    </tr>\n    <tr>\n      <th>207</th>\n      <td>RT @ScottyMom8: @OnlyNomaly @ShanghaiEye @shan...</td>\n      <td>0</td>\n    </tr>\n    <tr>\n      <th>208</th>\n      <td>RT @Independent: Hong Kong hospital workers st...</td>\n      <td>1</td>\n    </tr>\n    <tr>\n      <th>209</th>\n      <td>RT @ABCWorldNews: Hundreds of Hong Kong hospit...</td>\n      <td>1</td>\n    </tr>\n    <tr>\n      <th>210</th>\n      <td>RT @SkyNews: As Hong Kong faces #coronavirus, ...</td>\n      <td>1</td>\n    </tr>\n    <tr>\n      <th>211</th>\n      <td>RT @ChalecosAmarill:  #CoronaVirus  Japn pone ...</td>\n      <td>0</td>\n    </tr>\n    <tr>\n      <th>212</th>\n      <td>RT @THR: As cases of the coronavirus continue ...</td>\n      <td>0</td>\n    </tr>\n    <tr>\n      <th>213</th>\n      <td>RT @balajis: The #coronavirus has now killed m...</td>\n      <td>0</td>\n    </tr>\n    <tr>\n      <th>214</th>\n      <td>RT @nytimes: Dr. Li Wenliang warned colleagues...</td>\n      <td>0</td>\n    </tr>\n    <tr>\n      <th>215</th>\n      <td>RT @AFP: Hong Kong medical workers strike, dem...</td>\n      <td>0</td>\n    </tr>\n    <tr>\n      <th>216</th>\n      <td>@DeZurdaTeam @DiazCanelB @marti160patria @SecU...</td>\n      <td>0</td>\n    </tr>\n    <tr>\n      <th>217</th>\n      <td>RT @alejandrasuart4: @DeZurdaTeam @DiazCanelB ...</td>\n      <td>1</td>\n    </tr>\n    <tr>\n      <th>218</th>\n      <td>RT @WTKR3: #Coronavirus: Thousands of Hong Kon...</td>\n      <td>1</td>\n    </tr>\n    <tr>\n      <th>219</th>\n      <td>RT @Cesar_Gigante: @DeZurdaTeam @DiazCanelB @m...</td>\n      <td>1</td>\n    </tr>\n    <tr>\n      <th>220</th>\n      <td>RT @globalnews: More than 2,000 hospital worke...</td>\n      <td>1</td>\n    </tr>\n    <tr>\n      <th>221</th>\n      <td>RT @Fight4HongKong: #CarrieLam: Government off...</td>\n      <td>1</td>\n    </tr>\n    <tr>\n      <th>222</th>\n      <td>RT @Cesar_Gigante: @DeZurdaTeam @DiazCanelB @m...</td>\n      <td>1</td>\n    </tr>\n    <tr>\n      <th>223</th>\n      <td>RT @Independent: Hong Kong hospital workers st...</td>\n      <td>1</td>\n    </tr>\n    <tr>\n      <th>224</th>\n      <td>RT @howroute: Hainan Province, China - police ...</td>\n      <td>0</td>\n    </tr>\n    <tr>\n      <th>225</th>\n      <td>RT @TheAtlantic: Growing numbers of people in ...</td>\n      <td>1</td>\n    </tr>\n  </tbody>\n</table>\n</div>"
     },
     "metadata": {}
    }
   ],
   "source": [
    "display(train_data)\n",
    "display(test_data)"
   ]
  },
  {
   "cell_type": "code",
   "execution_count": 41,
   "metadata": {},
   "outputs": [],
   "source": [
    "from sklearn.feature_extraction.text import CountVectorizer\n",
    "from sklearn.naive_bayes import MultinomialNB"
   ]
  },
  {
   "cell_type": "code",
   "execution_count": 42,
   "metadata": {},
   "outputs": [
    {
     "output_type": "execute_result",
     "data": {
      "text/plain": "s in the UK to eigh',\n        'RT @HawleyMO: #China thinks efforts to stop #coronavirus have gone too far? While infections skyrocket and the world is at risk?  https://t',\n        'RT @alfonslopeztena: Hundreds of Hong Kong medical workers strike to demand the city close its border with China to reduce the coronavirus',\n        'RT @ABC: Hundreds of Hong Kong hospital workers went on strike, demanding the government shutter all borders with mainland China as the cou',\n        \"RT @SkyNews: As Hong Kong faces #coronavirus, its citizens are furious that the city's borders are still open. Medics are threatening to st\",\n        'RT @g_nishiyama:  # https://t.co/Kr8C7TyX8F',\n        'RT @alfonslopeztena: Hundreds of Hong Kong medical workers strike to demand the city close its border with China to reduce the coronavirus',\n        'RT @AlmaDelaSierra1: @DeZurdaTeam @DiazCanelB @marti160patria @SecUJCuba @FeuCuba @UJCuba @gutierrez_onel @rodulfohumberto @neljulger @_dbl',\n        '@DeZurdaTeam @DiazCanelB @marti160patria @SecUJCuba @FeuCuba @UJCuba @gutierrez_onel @rodulfohumberto @neljulger https://t.co/V2jJwbxYdy',\n        'RT @AFP: Hong Kong medical workers strike, demanding the city close its border with China to reduce the #coronavirus spreading   https://t.',\n        '@BBCWorld Chinese Voice of the #coronavirus  #CCP https://t.co/8booH0M8m1',\n        'RT @sehof: The censorship instructions with regards to the death of Li Wenliang have been leaked to China Digital Times. https://t.co/CAZ0C',\n        'RT @AnitaFernandex: @DeZurdaTeam @DiazCanelB @marti160patria @SecUJCuba @FeuCuba @UJCuba @gutierrez_onel @rodulfohumberto @neljulger @_dbla',\n        'RT @AFP: Hong Kong medical workers strike, demanding the city close its border with China to reduce the #coronavirus spreading   https://t.',\n        'RT @Independent: Hong Kong hospital workers strike for a second day to demand closure of China border amid coronavirus crisis https://t.co/',\n        'RT @ABC: Hundreds of Hong Kong hospital workers went on strike, demanding the government shutter all borders with mainland China as the cou',\n        'RT @frontlinepbs: As the number of cases of the new coronavirus in Hong Kong have continued to rise, so too has the level of anger at the g',\n        '\"RT @QuickTake: \"\"If the government does not speak with us, we can\\'t stop the strike.\"\"  A Hong Kong medical workers\\' union continued their st\"',\n        'RT @annafifield: A person has died of coronavirus in Hong Kong, which is now the second place outside mainland China to report a death. Car',\n        '@CNN infectious diseases typically look more severe when theyre first discovered. See What virologists say about C https://t.co/RDshez50iO',\n        \"@ChinaDaily China #CCP Lies.  Wuhan doctor's conversation leaked: Emergency ward becomes mortuary, nobody handles https://t.co/FJiObZNVNH\",\n        'RT @AnakarlaRojas: @DeZurdaTeam @DiazCanelB @marti160patria @SecUJCuba @FeuCuba @UJCuba @gutierrez_onel @rodulfohumberto @neljulger @_dblan',\n        \"RT @siva217: Watch @AgendaFreeTV's broadcast: China Coronavirus: 1,115 Dead, 45,176 Cases - LIVE BREAKING NEWS COVERAGE  https://t.co/oJugU\",\n        'RT @QuickTake: @business @immigrationPH @MarisePayne These countries are evacuating their citizens from Hubei province, the epicenter of th',\n        'RT @ABCWorldNews: Hundreds of Hong Kong hospital workers went on strike, demanding the government shutter all borders with mainland China a',\n        '#BREAKING #Yunnan confirms  1 more #coronavirus case, new total is 155, suspected 100 - Yunnan Health and Health Commission @BNODesk',\n        \"RT @guardianworld: Uighurs in exile fear spread of coronavirus in China's internment camps https://t.co/oZsQLe5rAe\",\n        '@spaceangel1964 Do you want to save yourself and your family from #CoronaOutbreak ? This is probably your best bet: https://t.co/p2RGqo2dzg',\n        'RT @annafifield: A person has died of coronavirus in Hong Kong, which is now the second place outside mainland China to report a death. Car',\n        'RT @globalnews: More than 2,000 hospital workers went on strike in Hong Kong -- demanding that the border with mainland China be shut to wa',\n        'RT @kami92rey: @DeZurdaTeam @ESanchezcub @DiazCanelB @marti160patria @SecUJCuba @FeuCuba @UJCuba @gutierrez_onel @rodulfohumberto @neljulge',\n        'RT @abiaguiar: @DeZurdaTeam @DiazCanelB @marti160patria @SecUJCuba @FeuCuba @UJCuba @gutierrez_onel @rodulfohumberto @neljulger @_dblancog',\n        'RT @Independent: Hong Kong hospital workers strike for a second day to demand closure of China border amid coronavirus crisis https://t.co/',\n        '\"RT @NPR: One doctor in Hong Kong says he understands why health care workers are protesting as coronavirus has spread from China:   \"\"We don\"',\n        'RT @nytimesworld: More than 2,500 medical workers went on strike  in Hong Kong on Monday, arguing that the city risked a widespread outbrea',\n        'RT @ChuyLianet: @DeZurdaTeam @DiazCanelB @marti160patria @SecUJCuba @FeuCuba @UJCuba @gutierrez_onel @rodulfohumberto @neljulger @_dblancog',\n        'RT @CNN: This Wuhan doctor was targeted by police for trying to blow the whistle on the deadly coronavirus in the early weeks of the outbre',\n        'RT @thehill: JUST IN Chinese doctor who was detained after warning of coronavirus dies after contracting it https://t.co/EK5K5Uad2F https:/',\n        'RT @Independent: Hong Kong hospital workers strike for a second day to demand closure of China border amid coronavirus crisis https://t.co/',\n        \"RT @newsbreakph: Beyond being tagged as ground zero of the latest #coronavirus outbreak, what else do we need to know about China's Wuhan C\",\n        'RT @Montserratte4: @DeZurdaTeam @DiazCanelB @marti160patria @SecUJCuba @FeuCuba @UJCuba @gutierrez_onel @rodulfohumberto @neljulger @_dblan',\n        '@cnni During the time of Lunar New Year, the Spring festival of China, a deadly outbreak of the coronavirus has eme https://t.co/zfCYUynyys',\n        'RT @alfonslopeztena: Hundreds of Hong Kong medical workers strike to demand the city close its border with China to reduce the coronavirus',\n        'RT @revmahoney: Praying at the Chinese Embassy in Wash DC for those struggling with the coronavirus and their families. Prayer transforms!',\n        'RT @nytimesworld: More than 2,500 medical workers went on strike  in Hong Kong on Monday, arguing that the city risked a widespread outbrea',\n        'RT @nytimesworld: More than 2,500 medical workers went on strike  in Hong Kong on Monday, arguing that the city risked a widespread outbrea',\n        \"RT @AJEnglish: Why anger over the Hong Kong government's handling of the #coronavirus outbreak could unite ordinary people across the polit\",\n        'RT @Independent: Hong Kong hospital workers strike for a second day to demand closure of China border amid coronavirus crisis https://t.co/',\n        'RT @Dianacuba20191: @DeZurdaTeam @DiazCanelB @marti160patria @SecUJCuba @FeuCuba @UJCuba @gutierrez_onel @rodulfohumberto @neljulger @_dbla',\n        'Recovery rate. China: 10.94% Recovery rate. Outside of China: 13.6% #coronavirus #COVID19 #Wuhan #Epidemic #Breaking',\n        'RT @globalnews: More than 2,000 hospital workers went on strike in Hong Kong -- demanding that the border with mainland China be shut to wa',\n        '\"RT @dwnews: \"\"The government is useless. They should close all the borders.\"\"  Tensions are rising in Hong Kong over the spread of the new #c\"',\n        'RT @AskAnshul: Coronavirus:  China is facing shortage of masks &amp; gloves  To help China, India has lifted ban on export of personal protecti',\n        'RT @frontlinepbs: As the number of cases of the new coronavirus in Hong Kong have continued to rise, so too has the level of anger at the g',\n        'RT @AmandadeCuba1: @DeZurdaTeam @DiazCanelB @marti160patria @SecUJCuba @FeuCuba @UJCuba @gutierrez_onel @rodulfohumberto @neljulger @_dblan',\n        'RT @ABCWorldNews: Hundreds of Hong Kong hospital workers went on strike, demanding the government shutter all borders with mainland China a',\n        'RT @AlmaDelaSierra1: @DeZurdaTeam @DiazCanelB @marti160patria @SecUJCuba @FeuCuba @UJCuba @gutierrez_onel @rodulfohumberto @neljulger @_dbl',\n        \"RT @SkyNews: As Hong Kong faces #coronavirus, its citizens are furious that the city's borders are still open. Medics are threatening to st\",\n        '@BBCBreaking The risk to the public has not changed.  This is a legal term which we announced this morning as part https://t.co/EEBadYvTHl',\n        'RT @BoycottHegemony: When the chief of @who praised China for their effort and transparency to help stopping the spread of #coronavirus , w',\n        'RT @MailOnline: 2,400 medical workers go on strike in Hong Kong to demand the government shuts its border with China to stop #coronavirus h',\n        'RT @demosisto: Foreign Ministry spokeperson Hua Chunying said #China has shared information about #coronavirus with US since Jan 3. But #Xi',\n        '\"RT @QuickTake: \"\"If the government does not speak with us, we can\\'t stop the strike.\"\"  A Hong Kong medical workers\\' union continued their st\"',\n        'RT @10News: Amid coronavirus outbreak, thousands of Hong Kong medical workers strike again, calling for closure of Chinese border https://t',\n        'RT @IWF: Chinas mishandling of the coronavirus is now provoking questions abroad about the competence of its rulers and the reliability of',\n        \"RT @BloombergAsia: Here's the latest on coronavirus: -Death toll past 560 in China -Mainland now has over 28,000 cases -Japanese PM Abe say\",\n        \"RT @business: Here's the latest on coronavirus: -China death toll at 1,016 with 42,000 confirmed cases -Hubei province removes top health o\",\n        'RT @nytimesworld: More than 2,500 medical workers went on strike  in Hong Kong on Monday, arguing that the city risked a widespread outbrea',\n        'RT @NomenChanX: @ReutersWorld Amazon se retira de una importante conferencia de telecomunicaciones de Barcelona sobre coronavirus',\n        'RT @LouDobbs: Unexplained Spike. China reports nearly 15,000 new cases of the Coronavirus. Its largest single day increase to date. #MAGA',\n        'RT @AFP: Hong Kong medical workers strike, demanding the city close its border with China to reduce the #coronavirus spreading   https://t.',\n        '@TheEconomist The latest coronavirus cases as of today:  source: WHO, CDC chart: https://t.co/4IGC9GzgEG https://t.co/cXFiCoJuCv',\n        \"Up to 50,000 pets have been left in Wuhan homes at the centre of China's deadly #coronavirus outbreak https://t.co/50Gqm77Axz\",\n        'Possible video of cell phones left from #CoronaVirus deaths... if true its a chilling look at whats going on... https://t.co/vbihmgPpZI',\n        'RT @MarioFernndezV2: @DeZurdaTeam @DiazCanelB @marti160patria @SecUJCuba @FeuCuba @UJCuba @gutierrez_onel @rodulfohumberto @neljulger @_dbl',\n        'RT @Independent: Hong Kong hospital workers strike for a second day to demand closure of China border amid coronavirus crisis https://t.co/',\n        '\"RT @ZonaEducApure: #Hoy || Estudiantes de EP Avelina Duarte, reciben charla alusiva al \"\"Coronavirus\"\" impartida por la enfermera de CECOPRO\"',\n        \"RT @MailOnline: Wuhan medic says 'there are many more coronavirus deaths and infections than reported' #coronavirusoutbreak https://t.co/4q\",\n        'RT @ChannelNewsAsia: Hong Kong medical workers strike to urge closure of China border to block virus https://t.co/oR0MxgjvTr https://t.co/0',\n        \"RT @raythemouse: Does this image show scale of China's coronavirus cremations? https://t.co/x6yS8iQvit via @MailOnline\",\n        \"RT @business: Here's the latest on coronavirus: -China death toll at 1,016 with 42,000 confirmed cases -Hubei province removes top health o\",\n        \"RT @AJEnglish: Why anger over the Hong Kong government's handling of the #coronavirus outbreak could unite ordinary people across the polit\",\n        'RT @guardian: Chinas response to coronavirus exposes a dangerous obsession with secrecy | Jeffrey Wasserstrom https://t.co/FrP5h8bdA9',\n        'RT @ChannelNewsAsia: Hong Kong medical workers strike to urge closure of China border to block virus https://t.co/oR0MxgjvTr https://t.co/0',\n        'RT @alfonslopeztena: Hundreds of Hong Kong medical workers strike to demand the city close its border with China to reduce the coronavirus',\n        '@bbcchinese https://t.co/ags5OZtPDw',\n        'RT @YohendrisQ: @DeZurdaTeam @DiazCanelB @marti160patria @SecUJCuba @FeuCuba @UJCuba @gutierrez_onel @rodulfohumberto @neljulger @_dblancog',\n        'RT @washingtonpost: Facing coronavirus threat, Hong Kong restricts China entry but resists full border closure https://t.co/dOivIDakwU',\n        'RT @ABC: Hundreds of Hong Kong hospital workers went on strike, demanding the government shutter all borders with mainland China as the cou',\n        'RT @nytimesworld: Top officials in Southeast Asian countries dependent on China have played down the threat of the coronavirus and shied aw',\n        \"RT @AJEnglish: Why anger over the Hong Kong government's handling of the #coronavirus outbreak could unite ordinary people across the polit\",\n        'RT @FOCUS_TopNews: China hat nach internationaler Kritik die Erfassungsmethoden fr die Coronavirus-Seuche gendert.   https://t.co/3mvlfvZ',\n        '\"RT @QuickTake: \"\"If the government does not speak with us, we can\\'t stop the strike.\"\"  A Hong Kong medical workers\\' union continued their st\"',\n        'RT @Erik32480523: @VictoriaALC @DeZurdaTeam @DiazCanelB @marti160patria @SecUJCuba @FeuCuba @UJCuba @gutierrez_onel @rodulfohumberto @nelju',\n        '\"RT @NPR: One doctor in Hong Kong says he understands why health care workers are protesting as coronavirus has spread from China:   \"\"We don\"',\n        'RT @vilmadiazcuba: @DeZurdaTeam @DiazCanelB @marti160patria @SecUJCuba @FeuCuba @UJCuba @gutierrez_onel @rodulfohumberto @neljulger @_dblan',\n        'RT @annafifield: A person has died of coronavirus in Hong Kong, which is now the second place outside mainland China to report a death. Car',\n        'RT @ReutersChina: Hong Kong reports first coronavirus death as hospital workers escalate strike https://t.co/1b6CMs1M1E https://t.co/ituzxp',\n        'RT @HawleyMO: #China thinks efforts to stop #coronavirus have gone too far? While infections skyrocket and the world is at risk?  https://t',\n        'RT @estevez_damiana: @DeZurdaTeam @DiazCanelB @marti160patria @SecUJCuba @FeuCuba @UJCuba @gutierrez_onel @rodulfohumberto @neljulger @_dbl',\n        'RT @nytimes: In the middle of the coronavirus epidemic, President Xi of China slipped out of public view for an entire week. Some suggested',\n        'RT @GreysGomez3: @DeZurdaTeam @DiazCanelB @marti160patria @SecUJCuba @FeuCuba @UJCuba @gutierrez_onel @rodulfohumberto @neljulger @_dblanco',\n        'RT @globalnews: More than 2,000 hospital workers went on strike in Hong Kong -- demanding that the border with mainland China be shut to wa',\n        '\"RT @NPR: One doctor in Hong Kong says he understands why health care workers are protesting as coronavirus has spread from China:   \"\"We don\"',\n        'RT @Independent: Hong Kong hospital workers strike for a second day to demand closure of China border amid coronavirus crisis https://t.co/',\n        \"RT @AJEnglish: Why anger over the Hong Kong government's handling of the #coronavirus outbreak could unite ordinary people across the polit\",\n        'RT @alvertoas: China confirma que el coronavirus is airborne  https://t.co/00xXvfS7dC',\n        'RT @EmbaixadaChina: 1/3 | Ontem em conversa com @lhmandetta e @ernestofaraujo sobre o combate da comunidade internacional ao coronavrus, @',\n        'RT @_dblancog: @DeZurdaTeam @DiazCanelB @marti160patria @SecUJCuba @FeuCuba @UJCuba @gutierrez_onel @rodulfohumberto @neljulger @teleSURtv',\n        'RT @gustavoviloriar: El ministro @AlvaradoC_MPPS, inform que en Venezuela se iniciaron las  acciones para identificacin de posibles sospe',\n        'RT @estevez_damiana: @DeZurdaTeam @DiazCanelB @marti160patria @SecUJCuba @FeuCuba @UJCuba @gutierrez_onel @rodulfohumberto @neljulger @_dbl',\n        'RT @alfonslopeztena: Hundreds of Hong Kong medical workers strike to demand the city close its border with China to reduce the coronavirus',\n        'RT @ScottyMom8: @OnlyNomaly @ShanghaiEye @shanghaiist @Chinamission2un @china @chinaorgcn @WHO #China. A country of great wealth and techno',\n        'RT @Independent: Hong Kong hospital workers strike for a second day to demand closure of China border amid coronavirus crisis https://t.co/',\n        'RT @ABCWorldNews: Hundreds of Hong Kong hospital workers went on strike, demanding the government shutter all borders with mainland China a',\n        \"RT @SkyNews: As Hong Kong faces #coronavirus, its citizens are furious that the city's borders are still open. Medics are threatening to st\",\n        'RT @ChalecosAmarill:  #CoronaVirus  Japn pone en cuarentena un crucero con 3.500 personas por un caso del coronavirus https://t.co/JM',\n        \"RT @THR: As cases of the coronavirus continue to climb in China, most of the country's leading film studios have already canceled their Ber\",\n        'RT @balajis: The #coronavirus has now killed more mainland Chinese than SARS.  This is just the confirmed death toll. The Caijing article g',\n        'RT @nytimes: Dr. Li Wenliang warned colleagues weeks ago about what would become the coronavirus outbreak and was censured by police in Wuh',\n        'RT @AFP: Hong Kong medical workers strike, demanding the city close its border with China to reduce the #coronavirus spreading   https://t.',\n        '@DeZurdaTeam @DiazCanelB @marti160patria @SecUJCuba @FeuCuba @UJCuba @gutierrez_onel @rodulfohumberto @neljulger https://t.co/tA5tEvgMCh',\n        'RT @alejandrasuart4: @DeZurdaTeam @DiazCanelB @marti160patria @SecUJCuba @FeuCuba @UJCuba @gutierrez_onel @rodulfohumberto @neljulger @_dbl',\n        'RT @WTKR3: #Coronavirus: Thousands of Hong Kong medical workers strike again, calling for closure of Chinese border https://t.co/Zg8lIqyWA8',\n        'RT @Cesar_Gigante: @DeZurdaTeam @DiazCanelB @marti160patria @SecUJCuba @FeuCuba @UJCuba @gutierrez_onel @rodulfohumberto @neljulger @_dblan',\n        'RT @globalnews: More than 2,000 hospital workers went on strike in Hong Kong -- demanding that the border with mainland China be shut to wa',\n        'RT @Fight4HongKong: #CarrieLam: Government officials are not allowed to wear sanitary masks if they dont have necessity to wear masks.  Go',\n        'RT @Cesar_Gigante: @DeZurdaTeam @DiazCanelB @marti160patria @SecUJCuba @FeuCuba @UJCuba @gutierrez_onel @rodulfohumberto @neljulger @_dblan',\n        'RT @Independent: Hong Kong hospital workers strike for a second day to demand closure of China border amid coronavirus crisis https://t.co/',\n        'RT @howroute: Hainan Province, China - police are checking cell phones and arresting people for posting the truth about #coronavirus outbre',\n        'RT @TheAtlantic: Growing numbers of people in Hong Kong are joining unions to pressure the authorities to respond to their demands, writes'],\n       dtype=object),\n array([0, 1, 1, 0, 1, 0, 0, 0, 0, 0, 0, 0, 0, 1, 1, 1, 0, 0, 1, 1, 0, 0,\n        0, 1, 0, 0, 1, 0, 0, 1, 0, 0, 0, 1, 1, 0, 0, 0, 0, 0, 0, 0, 1, 0,\n        0, 0, 1, 0, 0, 0, 0, 0, 1, 1, 1, 0, 0, 0, 0, 1, 0, 0, 0, 1, 0, 0,\n        0, 0, 0, 0, 0, 0, 1, 0, 0, 0, 1, 1, 1, 1, 0, 1, 0, 1, 0, 0, 0, 0,\n        0, 1, 1, 1, 1, 1, 0, 0, 0, 0, 1, 1, 0, 1, 1, 1, 1, 0, 0, 1, 1, 1,\n        1, 0, 0, 1, 0, 0, 1, 0, 1, 1, 0, 0, 0, 1, 1, 1, 1, 0, 1, 1, 1, 1,\n        0, 1, 0, 1, 0, 0, 1, 1, 1, 0, 1, 1, 0, 1, 1, 0, 0, 0, 1, 1, 0, 0,\n        0, 1, 1, 0, 1, 0, 0, 0, 1, 0, 0, 1, 0, 1, 0, 1, 1, 0, 0, 0, 0, 0,\n        1, 1, 0, 1, 0, 1, 0, 1, 1, 1, 1, 0, 1, 1, 0, 1, 0, 0, 0, 0, 0, 1,\n        1, 1, 1, 0, 0, 1, 0, 1, 1, 0, 1, 1, 1, 0, 0, 0, 0, 0, 0, 1, 1, 1,\n        1, 1, 1, 1, 0, 1]))"
     },
     "metadata": {},
     "execution_count": 42
    }
   ],
   "source": [
    "X = np.array(data['Tweet'])\n",
    "y = np.array(data['Label'])\n",
    "X,y"
   ]
  },
  {
   "cell_type": "code",
   "execution_count": 64,
   "metadata": {},
   "outputs": [],
   "source": [
    "from sklearn.model_selection import train_test_split\n",
    "from sklearn.feature_selection import SelectKBest\n",
    "from sklearn.feature_selection import chi2"
   ]
  },
  {
   "cell_type": "code",
   "execution_count": 65,
   "metadata": {},
   "outputs": [],
   "source": [
    "X_train, X_test, y_train, y_test = train_test_split(X,y,test_size=0.20)"
   ]
  },
  {
   "cell_type": "code",
   "execution_count": 66,
   "metadata": {},
   "outputs": [],
   "source": [
    "vectorizer = CountVectorizer()\n",
    "counts = vectorizer.fit_transform(X_train)"
   ]
  },
  {
   "cell_type": "code",
   "execution_count": 67,
   "metadata": {},
   "outputs": [
    {
     "output_type": "execute_result",
     "data": {
      "text/plain": "MultinomialNB()"
     },
     "metadata": {},
     "execution_count": 67
    }
   ],
   "source": [
    "classifier = MultinomialNB()\n",
    "targets = y_train\n",
    "classifier.fit(counts,targets)"
   ]
  },
  {
   "cell_type": "code",
   "execution_count": 70,
   "metadata": {},
   "outputs": [
    {
     "output_type": "execute_result",
     "data": {
      "text/plain": "SelectKBest(k=800, score_func=<function chi2 at 0x7fcde6e6d680>)"
     },
     "metadata": {},
     "execution_count": 70
    }
   ],
   "source": [
    "selector = SelectKBest(chi2, k=800)\n",
    "selector.fit(counts, targets)"
   ]
  },
  {
   "cell_type": "code",
   "execution_count": 83,
   "metadata": {},
   "outputs": [
    {
     "output_type": "execute_result",
     "data": {
      "text/plain": "array([[0.   , 1.   ],\n       [0.91 , 0.09 ],\n       [0.723, 0.277],\n       [0.   , 1.   ],\n       [1.   , 0.   ],\n       [0.   , 1.   ],\n       [0.   , 1.   ],\n       [0.997, 0.003],\n       [0.   , 1.   ],\n       [0.   , 1.   ],\n       [0.   , 1.   ],\n       [0.   , 1.   ],\n       [0.999, 0.001],\n       [0.   , 1.   ],\n       [0.   , 1.   ],\n       [0.996, 0.004],\n       [0.998, 0.002],\n       [1.   , 0.   ],\n       [0.   , 1.   ],\n       [0.006, 0.994],\n       [0.036, 0.964],\n       [0.828, 0.172],\n       [0.   , 1.   ],\n       [0.   , 1.   ],\n       [0.651, 0.349],\n       [0.992, 0.008],\n       [0.984, 0.016],\n       [0.   , 1.   ],\n       [0.84 , 0.16 ],\n       [0.007, 0.993],\n       [0.   , 1.   ],\n       [0.723, 0.277],\n       [0.036, 0.964],\n       [1.   , 0.   ],\n       [0.999, 0.001],\n       [0.868, 0.132],\n       [0.036, 0.964],\n       [0.   , 1.   ],\n       [0.   , 1.   ],\n       [0.977, 0.023],\n       [0.985, 0.015],\n       [0.993, 0.007],\n       [0.045, 0.955],\n       [0.005, 0.995],\n       [0.   , 1.   ],\n       [0.731, 0.269]])"
     },
     "metadata": {},
     "execution_count": 83
    }
   ],
   "source": [
    "test_counts = vectorizer.transform(list(X_test))\n",
    "y_pred = classifier.predict_proba(test_counts)\n",
    "np.round(y_pred,decimals=3)"
   ]
  },
  {
   "cell_type": "code",
   "execution_count": 72,
   "metadata": {},
   "outputs": [
    {
     "output_type": "execute_result",
     "data": {
      "text/plain": "array([1, 0, 1, 1, 0, 0, 1, 0, 1, 0, 0, 0, 0, 1, 1, 0, 0, 0, 1, 0, 1, 0,\n       1, 1, 0, 0, 0, 1, 0, 1, 1, 1, 0, 0, 0, 1, 0, 1, 1, 0, 0, 0, 0, 1,\n       0, 0])"
     },
     "metadata": {},
     "execution_count": 72
    }
   ],
   "source": [
    "y_test"
   ]
  },
  {
   "cell_type": "code",
   "execution_count": 76,
   "metadata": {},
   "outputs": [
    {
     "output_type": "execute_result",
     "data": {
      "text/plain": "0.7391304347826086"
     },
     "metadata": {},
     "execution_count": 76
    }
   ],
   "source": [
    "avg = 0\n",
    "for i in y_pred==y_test:\n",
    "    if i==True:\n",
    "        avg += 1\n",
    "avg = avg/len(y_pred==y_test)\n",
    "avg"
   ]
  },
  {
   "cell_type": "code",
   "execution_count": 86,
   "metadata": {},
   "outputs": [
    {
     "output_type": "execute_result",
     "data": {
      "text/plain": "['models/vectorizer.joblib']"
     },
     "metadata": {},
     "execution_count": 86
    }
   ],
   "source": [
    "dump(vectorizer, 'models/vectorizer.joblib')"
   ]
  },
  {
   "cell_type": "code",
   "execution_count": 87,
   "metadata": {},
   "outputs": [
    {
     "output_type": "execute_result",
     "data": {
      "text/plain": "['models/selector.joblib']"
     },
     "metadata": {},
     "execution_count": 87
    }
   ],
   "source": [
    "dump(selector, 'models/selector.joblib')"
   ]
  },
  {
   "cell_type": "code",
   "execution_count": 88,
   "metadata": {},
   "outputs": [
    {
     "output_type": "execute_result",
     "data": {
      "text/plain": "['models/classifier.joblib']"
     },
     "metadata": {},
     "execution_count": 88
    }
   ],
   "source": [
    "dump(classifier, 'models/classifier.joblib')"
   ]
  },
  {
   "cell_type": "code",
   "execution_count": null,
   "metadata": {},
   "outputs": [],
   "source": []
  }
 ],
 "metadata": {
  "kernelspec": {
   "display_name": "Python 3",
   "language": "python",
   "name": "python3"
  },
  "language_info": {
   "codemirror_mode": {
    "name": "ipython",
    "version": 3
   },
   "file_extension": ".py",
   "mimetype": "text/x-python",
   "name": "python",
   "nbconvert_exporter": "python",
   "pygments_lexer": "ipython3",
   "version": "3.7.6-final"
  }
 },
 "nbformat": 4,
 "nbformat_minor": 4
}