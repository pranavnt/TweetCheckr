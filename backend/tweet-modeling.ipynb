{
 "cells": [
  {
   "cell_type": "code",
   "execution_count": 1,
   "metadata": {},
   "outputs": [],
   "source": [
    "import pandas as pd\n",
    "from sklearn.model_selection import train_test_split\n",
    "from tqdm import tqdm_notebook"
   ]
  },
  {
   "cell_type": "code",
   "execution_count": 2,
   "metadata": {},
   "outputs": [],
   "source": [
    "data = pd.read_csv('dataset.csv').drop(['Unnamed: 0'],axis=1)"
   ]
  },
  {
   "cell_type": "code",
   "execution_count": 3,
   "metadata": {},
   "outputs": [],
   "source": [
    "data = data.sample(frac=1).reset_index(drop=True)"
   ]
  },
  {
   "cell_type": "code",
   "execution_count": 4,
   "metadata": {},
   "outputs": [],
   "source": [
    "train_data = data.head(int(225*0.8))"
   ]
  },
  {
   "cell_type": "code",
   "execution_count": 5,
   "metadata": {},
   "outputs": [],
   "source": [
    "test_data = data.tail(int(225*0.2))"
   ]
  },
  {
   "cell_type": "code",
   "execution_count": 6,
   "metadata": {},
   "outputs": [
    {
     "output_type": "display_data",
     "data": {
      "text/plain": "     Label                                              Tweet\n0        1  RT @nytimesworld: More than 2,500 medical work...\n1        0  @DeZurdaTeam @DiazCanelB @marti160patria @SecU...\n2        0  RT @alfonslopeztena: Hundreds of Hong Kong med...\n3        0  RT @frontlinepbs: As the number of cases of th...\n4        0  @CNN infectious diseases typically look more s...\n..     ...                                                ...\n175      0  RT @ChannelNewsAsia: Hong Kong medical workers...\n176      1  RT @alfonslopeztena: Hundreds of Hong Kong med...\n177      0  RT @frontlinepbs: As the number of cases of th...\n178      1  RT @globalnews: More than 2,000 hospital worke...\n179      1  RT @ABCWorldNews: Hundreds of Hong Kong hospit...\n\n[180 rows x 2 columns]",
      "text/html": "<div>\n<style scoped>\n    .dataframe tbody tr th:only-of-type {\n        vertical-align: middle;\n    }\n\n    .dataframe tbody tr th {\n        vertical-align: top;\n    }\n\n    .dataframe thead th {\n        text-align: right;\n    }\n</style>\n<table border=\"1\" class=\"dataframe\">\n  <thead>\n    <tr style=\"text-align: right;\">\n      <th></th>\n      <th>Label</th>\n      <th>Tweet</th>\n    </tr>\n  </thead>\n  <tbody>\n    <tr>\n      <th>0</th>\n      <td>1</td>\n      <td>RT @nytimesworld: More than 2,500 medical work...</td>\n    </tr>\n    <tr>\n      <th>1</th>\n      <td>0</td>\n      <td>@DeZurdaTeam @DiazCanelB @marti160patria @SecU...</td>\n    </tr>\n    <tr>\n      <th>2</th>\n      <td>0</td>\n      <td>RT @alfonslopeztena: Hundreds of Hong Kong med...</td>\n    </tr>\n    <tr>\n      <th>3</th>\n      <td>0</td>\n      <td>RT @frontlinepbs: As the number of cases of th...</td>\n    </tr>\n    <tr>\n      <th>4</th>\n      <td>0</td>\n      <td>@CNN infectious diseases typically look more s...</td>\n    </tr>\n    <tr>\n      <th>...</th>\n      <td>...</td>\n      <td>...</td>\n    </tr>\n    <tr>\n      <th>175</th>\n      <td>0</td>\n      <td>RT @ChannelNewsAsia: Hong Kong medical workers...</td>\n    </tr>\n    <tr>\n      <th>176</th>\n      <td>1</td>\n      <td>RT @alfonslopeztena: Hundreds of Hong Kong med...</td>\n    </tr>\n    <tr>\n      <th>177</th>\n      <td>0</td>\n      <td>RT @frontlinepbs: As the number of cases of th...</td>\n    </tr>\n    <tr>\n      <th>178</th>\n      <td>1</td>\n      <td>RT @globalnews: More than 2,000 hospital worke...</td>\n    </tr>\n    <tr>\n      <th>179</th>\n      <td>1</td>\n      <td>RT @ABCWorldNews: Hundreds of Hong Kong hospit...</td>\n    </tr>\n  </tbody>\n</table>\n<p>180 rows × 2 columns</p>\n</div>"
     },
     "metadata": {}
    },
    {
     "output_type": "display_data",
     "data": {
      "text/plain": "     Label                                              Tweet\n181      0  @caijingxiang Best way for coronavirus prevent...\n182      0  RT @annafifield: A person has died of coronavi...\n183      0  RT @sehof: The censorship instructions with re...\n184      0  RT @nytimes: In the middle of the coronavirus ...\n185      1  RT @YohendrisQ: @DeZurdaTeam @DiazCanelB @mart...\n186      0  RT @AFP: Hong Kong medical workers strike, dem...\n187      0  RT @ReutersChina: Hong Kong reports first coro...\n188      0  RT @balajis: The #coronavirus has now killed m...\n189      0  RT @QAnonNotables: Dr. Francis Boyle, drafter ...\n190      1  RT @AFP: Hong Kong medical workers strike, dem...\n191      1  RT @MarioFernndezV2: @DeZurdaTeam @DiazCanelB ...\n192      1  RT @Independent: Hong Kong hospital workers st...\n193      0  RT @ReutersBiz: Amazon withdraws from Barcelon...\n194      1  RT @LunaDeAbril2019: @DeZurdaTeam @DiazCanelB ...\n195      1  RT @FOCUS_TopNews: China hat nach internationa...\n196      0  RT @BoycottHegemony: When the chief of @who pr...\n197      1  RT @Independent: Hong Kong hospital workers st...\n198      0  RT @EevaPaavilainen: @OnlyNomaly @zlj517 @MFA_...\n199      1  RT @annafifield: A person has died of coronavi...\n200      1  RT @abiaguiar: @DeZurdaTeam @DiazCanelB @marti...\n201      0  RT @japantimes: Hong Kong medical workers stri...\n202      1  RT @10News: Amid coronavirus outbreak, thousan...\n203      0  @TheWeekly Thanks for interviewing our brave a...\n204      0  Min. @AlvaradoC_MPPS: En Venezuela, se han act...\n205      1  RT @guardian: Chinas response to coronavirus e...\n206      0  Recovery rate. China: 10.94% Recovery rate. Ou...\n207      1  RT @nytimesworld: More than 2,500 medical work...\n208      0  RT @IWF: Chinas mishandling of the coronavirus...\n209      0  RT @BritishHeraldUK: HONG KONG - Hundreds of m...\n210      0  RT @TheAtlantic: Growing numbers of people in ...\n211      1  RT @nytimesworld: More than 2,500 medical work...\n212      1  RT @kami92rey: @DeZurdaTeam @ESanchezcub @Diaz...\n213      0  RT @thehill: JUST IN Chinese doctor who was de...\n214      1  RT @Independent: Hong Kong hospital workers st...\n215      0  RT @howroute: Hainan Province, China - police ...\n216      1  RT @Montserratte4: @DeZurdaTeam @DiazCanelB @m...\n217      0                @bbcchinese https://t.co/ags5OZtPDw\n218      0  RT @Independent: Hong Kong hospital workers st...\n219      1  RT @japantimes: Hong Kong medical workers stri...\n220      1  RT @Cesar_Gigante: @DeZurdaTeam @DiazCanelB @m...\n221      1  RT @AJEnglish: Why anger over the Hong Kong go...\n222      1  RT @ABC: Hundreds of Hong Kong hospital worker...\n223      1  RT @Fight4HongKong: #CarrieLam: Government off...\n224      0  RT @business: Here's the latest on coronavirus...\n225      1  RT @Erik32480523: @VictoriaALC @DeZurdaTeam @D...",
      "text/html": "<div>\n<style scoped>\n    .dataframe tbody tr th:only-of-type {\n        vertical-align: middle;\n    }\n\n    .dataframe tbody tr th {\n        vertical-align: top;\n    }\n\n    .dataframe thead th {\n        text-align: right;\n    }\n</style>\n<table border=\"1\" class=\"dataframe\">\n  <thead>\n    <tr style=\"text-align: right;\">\n      <th></th>\n      <th>Label</th>\n      <th>Tweet</th>\n    </tr>\n  </thead>\n  <tbody>\n    <tr>\n      <th>181</th>\n      <td>0</td>\n      <td>@caijingxiang Best way for coronavirus prevent...</td>\n    </tr>\n    <tr>\n      <th>182</th>\n      <td>0</td>\n      <td>RT @annafifield: A person has died of coronavi...</td>\n    </tr>\n    <tr>\n      <th>183</th>\n      <td>0</td>\n      <td>RT @sehof: The censorship instructions with re...</td>\n    </tr>\n    <tr>\n      <th>184</th>\n      <td>0</td>\n      <td>RT @nytimes: In the middle of the coronavirus ...</td>\n    </tr>\n    <tr>\n      <th>185</th>\n      <td>1</td>\n      <td>RT @YohendrisQ: @DeZurdaTeam @DiazCanelB @mart...</td>\n    </tr>\n    <tr>\n      <th>186</th>\n      <td>0</td>\n      <td>RT @AFP: Hong Kong medical workers strike, dem...</td>\n    </tr>\n    <tr>\n      <th>187</th>\n      <td>0</td>\n      <td>RT @ReutersChina: Hong Kong reports first coro...</td>\n    </tr>\n    <tr>\n      <th>188</th>\n      <td>0</td>\n      <td>RT @balajis: The #coronavirus has now killed m...</td>\n    </tr>\n    <tr>\n      <th>189</th>\n      <td>0</td>\n      <td>RT @QAnonNotables: Dr. Francis Boyle, drafter ...</td>\n    </tr>\n    <tr>\n      <th>190</th>\n      <td>1</td>\n      <td>RT @AFP: Hong Kong medical workers strike, dem...</td>\n    </tr>\n    <tr>\n      <th>191</th>\n      <td>1</td>\n      <td>RT @MarioFernndezV2: @DeZurdaTeam @DiazCanelB ...</td>\n    </tr>\n    <tr>\n      <th>192</th>\n      <td>1</td>\n      <td>RT @Independent: Hong Kong hospital workers st...</td>\n    </tr>\n    <tr>\n      <th>193</th>\n      <td>0</td>\n      <td>RT @ReutersBiz: Amazon withdraws from Barcelon...</td>\n    </tr>\n    <tr>\n      <th>194</th>\n      <td>1</td>\n      <td>RT @LunaDeAbril2019: @DeZurdaTeam @DiazCanelB ...</td>\n    </tr>\n    <tr>\n      <th>195</th>\n      <td>1</td>\n      <td>RT @FOCUS_TopNews: China hat nach internationa...</td>\n    </tr>\n    <tr>\n      <th>196</th>\n      <td>0</td>\n      <td>RT @BoycottHegemony: When the chief of @who pr...</td>\n    </tr>\n    <tr>\n      <th>197</th>\n      <td>1</td>\n      <td>RT @Independent: Hong Kong hospital workers st...</td>\n    </tr>\n    <tr>\n      <th>198</th>\n      <td>0</td>\n      <td>RT @EevaPaavilainen: @OnlyNomaly @zlj517 @MFA_...</td>\n    </tr>\n    <tr>\n      <th>199</th>\n      <td>1</td>\n      <td>RT @annafifield: A person has died of coronavi...</td>\n    </tr>\n    <tr>\n      <th>200</th>\n      <td>1</td>\n      <td>RT @abiaguiar: @DeZurdaTeam @DiazCanelB @marti...</td>\n    </tr>\n    <tr>\n      <th>201</th>\n      <td>0</td>\n      <td>RT @japantimes: Hong Kong medical workers stri...</td>\n    </tr>\n    <tr>\n      <th>202</th>\n      <td>1</td>\n      <td>RT @10News: Amid coronavirus outbreak, thousan...</td>\n    </tr>\n    <tr>\n      <th>203</th>\n      <td>0</td>\n      <td>@TheWeekly Thanks for interviewing our brave a...</td>\n    </tr>\n    <tr>\n      <th>204</th>\n      <td>0</td>\n      <td>Min. @AlvaradoC_MPPS: En Venezuela, se han act...</td>\n    </tr>\n    <tr>\n      <th>205</th>\n      <td>1</td>\n      <td>RT @guardian: Chinas response to coronavirus e...</td>\n    </tr>\n    <tr>\n      <th>206</th>\n      <td>0</td>\n      <td>Recovery rate. China: 10.94% Recovery rate. Ou...</td>\n    </tr>\n    <tr>\n      <th>207</th>\n      <td>1</td>\n      <td>RT @nytimesworld: More than 2,500 medical work...</td>\n    </tr>\n    <tr>\n      <th>208</th>\n      <td>0</td>\n      <td>RT @IWF: Chinas mishandling of the coronavirus...</td>\n    </tr>\n    <tr>\n      <th>209</th>\n      <td>0</td>\n      <td>RT @BritishHeraldUK: HONG KONG - Hundreds of m...</td>\n    </tr>\n    <tr>\n      <th>210</th>\n      <td>0</td>\n      <td>RT @TheAtlantic: Growing numbers of people in ...</td>\n    </tr>\n    <tr>\n      <th>211</th>\n      <td>1</td>\n      <td>RT @nytimesworld: More than 2,500 medical work...</td>\n    </tr>\n    <tr>\n      <th>212</th>\n      <td>1</td>\n      <td>RT @kami92rey: @DeZurdaTeam @ESanchezcub @Diaz...</td>\n    </tr>\n    <tr>\n      <th>213</th>\n      <td>0</td>\n      <td>RT @thehill: JUST IN Chinese doctor who was de...</td>\n    </tr>\n    <tr>\n      <th>214</th>\n      <td>1</td>\n      <td>RT @Independent: Hong Kong hospital workers st...</td>\n    </tr>\n    <tr>\n      <th>215</th>\n      <td>0</td>\n      <td>RT @howroute: Hainan Province, China - police ...</td>\n    </tr>\n    <tr>\n      <th>216</th>\n      <td>1</td>\n      <td>RT @Montserratte4: @DeZurdaTeam @DiazCanelB @m...</td>\n    </tr>\n    <tr>\n      <th>217</th>\n      <td>0</td>\n      <td>@bbcchinese https://t.co/ags5OZtPDw</td>\n    </tr>\n    <tr>\n      <th>218</th>\n      <td>0</td>\n      <td>RT @Independent: Hong Kong hospital workers st...</td>\n    </tr>\n    <tr>\n      <th>219</th>\n      <td>1</td>\n      <td>RT @japantimes: Hong Kong medical workers stri...</td>\n    </tr>\n    <tr>\n      <th>220</th>\n      <td>1</td>\n      <td>RT @Cesar_Gigante: @DeZurdaTeam @DiazCanelB @m...</td>\n    </tr>\n    <tr>\n      <th>221</th>\n      <td>1</td>\n      <td>RT @AJEnglish: Why anger over the Hong Kong go...</td>\n    </tr>\n    <tr>\n      <th>222</th>\n      <td>1</td>\n      <td>RT @ABC: Hundreds of Hong Kong hospital worker...</td>\n    </tr>\n    <tr>\n      <th>223</th>\n      <td>1</td>\n      <td>RT @Fight4HongKong: #CarrieLam: Government off...</td>\n    </tr>\n    <tr>\n      <th>224</th>\n      <td>0</td>\n      <td>RT @business: Here's the latest on coronavirus...</td>\n    </tr>\n    <tr>\n      <th>225</th>\n      <td>1</td>\n      <td>RT @Erik32480523: @VictoriaALC @DeZurdaTeam @D...</td>\n    </tr>\n  </tbody>\n</table>\n</div>"
     },
     "metadata": {}
    }
   ],
   "source": [
    "display(train_data)\n",
    "display(test_data)"
   ]
  }
 ],
 "metadata": {
  "kernelspec": {
   "display_name": "Python 3",
   "language": "python",
   "name": "python3"
  },
  "language_info": {
   "codemirror_mode": {
    "name": "ipython",
    "version": 3
   },
   "file_extension": ".py",
   "mimetype": "text/x-python",
   "name": "python",
   "nbconvert_exporter": "python",
   "pygments_lexer": "ipython3",
   "version": "3.7.6-final"
  }
 },
 "nbformat": 4,
 "nbformat_minor": 4
}