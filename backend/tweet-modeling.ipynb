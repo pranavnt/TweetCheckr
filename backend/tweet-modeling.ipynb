{
 "cells": [
  {
   "cell_type": "code",
   "execution_count": 8,
   "metadata": {},
   "outputs": [],
   "source": [
    "import pandas as pd\n",
    "from sklearn.model_selection import train_test_split\n",
    "from tqdm import tqdm_notebook"
   ]
  },
  {
   "cell_type": "code",
   "execution_count": 10,
   "metadata": {},
   "outputs": [],
   "source": [
    "data = pd.read_csv('dataset.csv')"
   ]
  },
  {
   "cell_type": "code",
   "execution_count": 11,
   "metadata": {},
   "outputs": [],
   "source": [
    "data = data.sample(frac=1).reset_index(drop=True)"
   ]
  },
  {
   "cell_type": "code",
   "execution_count": null,
   "metadata": {},
   "outputs": [],
   "source": [
    "columns_titles = [\"Tweet\",\"Label\"]\n",
    "data = data.reindex(columns=columns_titles)"
   ]
  },
  {
   "cell_type": "code",
   "execution_count": 12,
   "metadata": {},
   "outputs": [],
   "source": [
    "train_data = data.head(int(225*0.8))"
   ]
  },
  {
   "cell_type": "code",
   "execution_count": 13,
   "metadata": {},
   "outputs": [],
   "source": [
    "test_data = data.tail(int(225*0.2))"
   ]
  },
  {
   "cell_type": "code",
   "execution_count": 14,
   "metadata": {},
   "outputs": [
    {
     "output_type": "display_data",
     "data": {
      "text/plain": "     Label                                              Tweet\n0        0  RT @THR: As cases of the coronavirus continue ...\n1        0  RT @AFP: Hong Kong medical workers strike, dem...\n2        0  Recovery rate. China: 10.94% Recovery rate. Ou...\n3        0                @bbcchinese https://t.co/ags5OZtPDw\n4        0  RT @DHSCgovuk: Four further patients in Englan...\n..     ...                                                ...\n175      1  RT @QuickTake: @business @immigrationPH @Maris...\n176      0  \"RT @QuickTake: \"\"If the government does not s...\n177      0  RT @alfonslopeztena: Hundreds of Hong Kong med...\n178      0  @EggTarTisYummy @mertinsantos @kevinleversee @...\n179      0  RT @KenRoth: One of the first Chinese doctors ...\n\n[180 rows x 2 columns]",
      "text/html": "<div>\n<style scoped>\n    .dataframe tbody tr th:only-of-type {\n        vertical-align: middle;\n    }\n\n    .dataframe tbody tr th {\n        vertical-align: top;\n    }\n\n    .dataframe thead th {\n        text-align: right;\n    }\n</style>\n<table border=\"1\" class=\"dataframe\">\n  <thead>\n    <tr style=\"text-align: right;\">\n      <th></th>\n      <th>Label</th>\n      <th>Tweet</th>\n    </tr>\n  </thead>\n  <tbody>\n    <tr>\n      <th>0</th>\n      <td>0</td>\n      <td>RT @THR: As cases of the coronavirus continue ...</td>\n    </tr>\n    <tr>\n      <th>1</th>\n      <td>0</td>\n      <td>RT @AFP: Hong Kong medical workers strike, dem...</td>\n    </tr>\n    <tr>\n      <th>2</th>\n      <td>0</td>\n      <td>Recovery rate. China: 10.94% Recovery rate. Ou...</td>\n    </tr>\n    <tr>\n      <th>3</th>\n      <td>0</td>\n      <td>@bbcchinese https://t.co/ags5OZtPDw</td>\n    </tr>\n    <tr>\n      <th>4</th>\n      <td>0</td>\n      <td>RT @DHSCgovuk: Four further patients in Englan...</td>\n    </tr>\n    <tr>\n      <th>...</th>\n      <td>...</td>\n      <td>...</td>\n    </tr>\n    <tr>\n      <th>175</th>\n      <td>1</td>\n      <td>RT @QuickTake: @business @immigrationPH @Maris...</td>\n    </tr>\n    <tr>\n      <th>176</th>\n      <td>0</td>\n      <td>\"RT @QuickTake: \"\"If the government does not s...</td>\n    </tr>\n    <tr>\n      <th>177</th>\n      <td>0</td>\n      <td>RT @alfonslopeztena: Hundreds of Hong Kong med...</td>\n    </tr>\n    <tr>\n      <th>178</th>\n      <td>0</td>\n      <td>@EggTarTisYummy @mertinsantos @kevinleversee @...</td>\n    </tr>\n    <tr>\n      <th>179</th>\n      <td>0</td>\n      <td>RT @KenRoth: One of the first Chinese doctors ...</td>\n    </tr>\n  </tbody>\n</table>\n<p>180 rows × 2 columns</p>\n</div>"
     },
     "metadata": {}
    },
    {
     "output_type": "display_data",
     "data": {
      "text/plain": "     Label                                              Tweet\n181      0  RT @alvertoas: China confirma que el coronavir...\n182      1  RT @alfonslopeztena: Hundreds of Hong Kong med...\n183      0  RT @HawleyMO: #China thinks efforts to stop #c...\n184      0  RT @balajis: The #coronavirus has now killed m...\n185      0  RT @MailOnline: 2,400 medical workers go on st...\n186      0  RT @cnnphilippines: @CNN Authorities in Wuhan,...\n187      0  RT @BNODesk: Updated charts for coronavirus in...\n188      1  RT @AFP: Hong Kong medical workers strike, dem...\n189      0  @BBCBreaking The risk to the public has not ch...\n190      1  RT @annafifield: A person has died of coronavi...\n191      1  RT @Independent: Hong Kong hospital workers st...\n192      0  @Jkylebass @StephenBannon @robert_spalding @Bi...\n193      1  RT @WTKR3: #Coronavirus: Thousands of Hong Kon...\n194      1  RT @nytimesworld: More than 2,500 medical work...\n195      1  RT @nytimesworld: More than 2,500 medical work...\n196      1  RT @Independent: Hong Kong hospital workers st...\n197      1  RT @ABCWorldNews: Hundreds of Hong Kong hospit...\n198      1  RT @kami92rey: @DeZurdaTeam @ESanchezcub @Diaz...\n199      0  @_10kanee @spectatorindex BREAKING: Coronaviru...\n200      0  Africans in Wuhan - Homesick and Fearful of Co...\n201      0  RT @business: Here's the latest on coronavirus...\n202      0  @BBCWorld Chinese Voice of the #coronavirus  #...\n203      1  RT @ABCWorldNews: Hundreds of Hong Kong hospit...\n204      1  RT @ChannelNewsAsia: Hong Kong medical workers...\n205      1  RT @Montserratte4: @DeZurdaTeam @DiazCanelB @m...\n206      0  #BREAKING #Yunnan confirms  1 more #coronaviru...\n207      0  RT @IWF: Chinas mishandling of the coronavirus...\n208      0  RT @IWV: If there is one thing that Hong Kongs...\n209      0  Min. @AlvaradoC_MPPS: En Venezuela, se han act...\n210      1  RT @CaraotaDigital: Temen lo peor: mdicos de H...\n211      1  RT @AFP: Hong Kong medical workers strike, dem...\n212      1  RT @MailOnline: 2,400 medical workers go on st...\n213      0  @TheWeekly Thanks for interviewing our brave a...\n214      0  RT @ChalecosAmarill:  #CoronaVirus  Japn pone ...\n215      1  RT @MarioFernndezV2: @DeZurdaTeam @DiazCanelB ...\n216      1  RT @ABC: Hundreds of Hong Kong hospital worker...\n217      1  RT @TheAtlantic: Growing numbers of people in ...\n218      0  RT @frontlinepbs: As the number of cases of th...\n219      0  RT @AFP: @WHO #UPDATE The death toll from the ...\n220      0  RT @BoycottHegemony: When the chief of @who pr...\n221      0  RT @QAnonNotables: Dr. Francis Boyle, drafter ...\n222      0  @cnni During the time of Lunar New Year, the S...\n223      1  RT @FOCUS_TopNews: China hat nach internationa...\n224      1  @DeZurdaTeam @DiazCanelB @marti160patria @SecU...\n225      1  RT @globalnews: More than 2,000 hospital worke...",
      "text/html": "<div>\n<style scoped>\n    .dataframe tbody tr th:only-of-type {\n        vertical-align: middle;\n    }\n\n    .dataframe tbody tr th {\n        vertical-align: top;\n    }\n\n    .dataframe thead th {\n        text-align: right;\n    }\n</style>\n<table border=\"1\" class=\"dataframe\">\n  <thead>\n    <tr style=\"text-align: right;\">\n      <th></th>\n      <th>Label</th>\n      <th>Tweet</th>\n    </tr>\n  </thead>\n  <tbody>\n    <tr>\n      <th>181</th>\n      <td>0</td>\n      <td>RT @alvertoas: China confirma que el coronavir...</td>\n    </tr>\n    <tr>\n      <th>182</th>\n      <td>1</td>\n      <td>RT @alfonslopeztena: Hundreds of Hong Kong med...</td>\n    </tr>\n    <tr>\n      <th>183</th>\n      <td>0</td>\n      <td>RT @HawleyMO: #China thinks efforts to stop #c...</td>\n    </tr>\n    <tr>\n      <th>184</th>\n      <td>0</td>\n      <td>RT @balajis: The #coronavirus has now killed m...</td>\n    </tr>\n    <tr>\n      <th>185</th>\n      <td>0</td>\n      <td>RT @MailOnline: 2,400 medical workers go on st...</td>\n    </tr>\n    <tr>\n      <th>186</th>\n      <td>0</td>\n      <td>RT @cnnphilippines: @CNN Authorities in Wuhan,...</td>\n    </tr>\n    <tr>\n      <th>187</th>\n      <td>0</td>\n      <td>RT @BNODesk: Updated charts for coronavirus in...</td>\n    </tr>\n    <tr>\n      <th>188</th>\n      <td>1</td>\n      <td>RT @AFP: Hong Kong medical workers strike, dem...</td>\n    </tr>\n    <tr>\n      <th>189</th>\n      <td>0</td>\n      <td>@BBCBreaking The risk to the public has not ch...</td>\n    </tr>\n    <tr>\n      <th>190</th>\n      <td>1</td>\n      <td>RT @annafifield: A person has died of coronavi...</td>\n    </tr>\n    <tr>\n      <th>191</th>\n      <td>1</td>\n      <td>RT @Independent: Hong Kong hospital workers st...</td>\n    </tr>\n    <tr>\n      <th>192</th>\n      <td>0</td>\n      <td>@Jkylebass @StephenBannon @robert_spalding @Bi...</td>\n    </tr>\n    <tr>\n      <th>193</th>\n      <td>1</td>\n      <td>RT @WTKR3: #Coronavirus: Thousands of Hong Kon...</td>\n    </tr>\n    <tr>\n      <th>194</th>\n      <td>1</td>\n      <td>RT @nytimesworld: More than 2,500 medical work...</td>\n    </tr>\n    <tr>\n      <th>195</th>\n      <td>1</td>\n      <td>RT @nytimesworld: More than 2,500 medical work...</td>\n    </tr>\n    <tr>\n      <th>196</th>\n      <td>1</td>\n      <td>RT @Independent: Hong Kong hospital workers st...</td>\n    </tr>\n    <tr>\n      <th>197</th>\n      <td>1</td>\n      <td>RT @ABCWorldNews: Hundreds of Hong Kong hospit...</td>\n    </tr>\n    <tr>\n      <th>198</th>\n      <td>1</td>\n      <td>RT @kami92rey: @DeZurdaTeam @ESanchezcub @Diaz...</td>\n    </tr>\n    <tr>\n      <th>199</th>\n      <td>0</td>\n      <td>@_10kanee @spectatorindex BREAKING: Coronaviru...</td>\n    </tr>\n    <tr>\n      <th>200</th>\n      <td>0</td>\n      <td>Africans in Wuhan - Homesick and Fearful of Co...</td>\n    </tr>\n    <tr>\n      <th>201</th>\n      <td>0</td>\n      <td>RT @business: Here's the latest on coronavirus...</td>\n    </tr>\n    <tr>\n      <th>202</th>\n      <td>0</td>\n      <td>@BBCWorld Chinese Voice of the #coronavirus  #...</td>\n    </tr>\n    <tr>\n      <th>203</th>\n      <td>1</td>\n      <td>RT @ABCWorldNews: Hundreds of Hong Kong hospit...</td>\n    </tr>\n    <tr>\n      <th>204</th>\n      <td>1</td>\n      <td>RT @ChannelNewsAsia: Hong Kong medical workers...</td>\n    </tr>\n    <tr>\n      <th>205</th>\n      <td>1</td>\n      <td>RT @Montserratte4: @DeZurdaTeam @DiazCanelB @m...</td>\n    </tr>\n    <tr>\n      <th>206</th>\n      <td>0</td>\n      <td>#BREAKING #Yunnan confirms  1 more #coronaviru...</td>\n    </tr>\n    <tr>\n      <th>207</th>\n      <td>0</td>\n      <td>RT @IWF: Chinas mishandling of the coronavirus...</td>\n    </tr>\n    <tr>\n      <th>208</th>\n      <td>0</td>\n      <td>RT @IWV: If there is one thing that Hong Kongs...</td>\n    </tr>\n    <tr>\n      <th>209</th>\n      <td>0</td>\n      <td>Min. @AlvaradoC_MPPS: En Venezuela, se han act...</td>\n    </tr>\n    <tr>\n      <th>210</th>\n      <td>1</td>\n      <td>RT @CaraotaDigital: Temen lo peor: mdicos de H...</td>\n    </tr>\n    <tr>\n      <th>211</th>\n      <td>1</td>\n      <td>RT @AFP: Hong Kong medical workers strike, dem...</td>\n    </tr>\n    <tr>\n      <th>212</th>\n      <td>1</td>\n      <td>RT @MailOnline: 2,400 medical workers go on st...</td>\n    </tr>\n    <tr>\n      <th>213</th>\n      <td>0</td>\n      <td>@TheWeekly Thanks for interviewing our brave a...</td>\n    </tr>\n    <tr>\n      <th>214</th>\n      <td>0</td>\n      <td>RT @ChalecosAmarill:  #CoronaVirus  Japn pone ...</td>\n    </tr>\n    <tr>\n      <th>215</th>\n      <td>1</td>\n      <td>RT @MarioFernndezV2: @DeZurdaTeam @DiazCanelB ...</td>\n    </tr>\n    <tr>\n      <th>216</th>\n      <td>1</td>\n      <td>RT @ABC: Hundreds of Hong Kong hospital worker...</td>\n    </tr>\n    <tr>\n      <th>217</th>\n      <td>1</td>\n      <td>RT @TheAtlantic: Growing numbers of people in ...</td>\n    </tr>\n    <tr>\n      <th>218</th>\n      <td>0</td>\n      <td>RT @frontlinepbs: As the number of cases of th...</td>\n    </tr>\n    <tr>\n      <th>219</th>\n      <td>0</td>\n      <td>RT @AFP: @WHO #UPDATE The death toll from the ...</td>\n    </tr>\n    <tr>\n      <th>220</th>\n      <td>0</td>\n      <td>RT @BoycottHegemony: When the chief of @who pr...</td>\n    </tr>\n    <tr>\n      <th>221</th>\n      <td>0</td>\n      <td>RT @QAnonNotables: Dr. Francis Boyle, drafter ...</td>\n    </tr>\n    <tr>\n      <th>222</th>\n      <td>0</td>\n      <td>@cnni During the time of Lunar New Year, the S...</td>\n    </tr>\n    <tr>\n      <th>223</th>\n      <td>1</td>\n      <td>RT @FOCUS_TopNews: China hat nach internationa...</td>\n    </tr>\n    <tr>\n      <th>224</th>\n      <td>1</td>\n      <td>@DeZurdaTeam @DiazCanelB @marti160patria @SecU...</td>\n    </tr>\n    <tr>\n      <th>225</th>\n      <td>1</td>\n      <td>RT @globalnews: More than 2,000 hospital worke...</td>\n    </tr>\n  </tbody>\n</table>\n</div>"
     },
     "metadata": {}
    }
   ],
   "source": [
    "display(train_data)\n",
    "display(test_data)"
   ]
  },
  {
   "cell_type": "code",
   "execution_count": 15,
   "metadata": {
    "tags": []
   },
   "outputs": [
    {
     "output_type": "stream",
     "name": "stderr",
     "text": "wandb: WARNING W&B installed but not logged in.  Run `wandb login` or set the WANDB_API_KEY env variable.\n"
    }
   ],
   "source": [
    "from simpletransformers.classification import ClassificationModel\n",
    "import logging"
   ]
  },
  {
   "cell_type": "code",
   "execution_count": 16,
   "metadata": {},
   "outputs": [],
   "source": [
    "logging.basicConfig(level=logging.INFO)\n",
    "transformers_logger = logging.getLogger(\"transformers\")\n",
    "transformers_logger.setLevel(logging.WARNING)"
   ]
  },
  {
   "cell_type": "code",
   "execution_count": 18,
   "metadata": {
    "tags": []
   },
   "outputs": [
    {
     "output_type": "stream",
     "name": "stderr",
     "text": "INFO:filelock:Lock 140198205012240 acquired on /Users/pranavnt/.cache/torch/transformers/80b4a484eddeb259bec2f06a6f2f05d90934111628e0e1c09a33bd4a121358e1.49b88ba7ec2c26a7558dda98ca3884c3b80fa31cf43a1b1f23aef3ff81ba344e.lock\nDownloading: 100%|██████████| 501M/501M [00:24<00:00, 20.8MB/s]\nINFO:filelock:Lock 140198205012240 released on /Users/pranavnt/.cache/torch/transformers/80b4a484eddeb259bec2f06a6f2f05d90934111628e0e1c09a33bd4a121358e1.49b88ba7ec2c26a7558dda98ca3884c3b80fa31cf43a1b1f23aef3ff81ba344e.lock\nWARNING:transformers.modeling_utils:Some weights of the model checkpoint at roberta-base were not used when initializing RobertaForSequenceClassification: ['lm_head.bias', 'lm_head.dense.weight', 'lm_head.dense.bias', 'lm_head.layer_norm.weight', 'lm_head.layer_norm.bias', 'lm_head.decoder.weight']\n- This IS expected if you are initializing RobertaForSequenceClassification from the checkpoint of a model trained on another task or with another architecture (e.g. initializing a BertForSequenceClassification model from a BertForPretraining model).\n- This IS NOT expected if you are initializing RobertaForSequenceClassification from the checkpoint of a model that you expect to be exactly identical (initializing a BertForSequenceClassification model from a BertForSequenceClassification model).\nWARNING:transformers.modeling_utils:Some weights of RobertaForSequenceClassification were not initialized from the model checkpoint at roberta-base and are newly initialized: ['classifier.dense.weight', 'classifier.dense.bias', 'classifier.out_proj.weight', 'classifier.out_proj.bias']\nYou should probably TRAIN this model on a down-stream task to be able to use it for predictions and inference.\nINFO:filelock:Lock 140198200303120 acquired on /Users/pranavnt/.cache/torch/transformers/d0c5776499adc1ded22493fae699da0971c1ee4c2587111707a4d177d20257a2.ef00af9e673c7160b4d41cfda1f48c5f4cba57d5142754525572a846a1ab1b9b.lock\nDownloading: 100%|██████████| 899k/899k [00:00<00:00, 1.58MB/s]\nINFO:filelock:Lock 140198200303120 released on /Users/pranavnt/.cache/torch/transformers/d0c5776499adc1ded22493fae699da0971c1ee4c2587111707a4d177d20257a2.ef00af9e673c7160b4d41cfda1f48c5f4cba57d5142754525572a846a1ab1b9b.lock\nINFO:filelock:Lock 140198205200016 acquired on /Users/pranavnt/.cache/torch/transformers/b35e7cd126cd4229a746b5d5c29a749e8e84438b14bcdb575950584fe33207e8.70bec105b4158ed9a1747fea67a43f5dee97855c64d62b6ec3742f4cfdb5feda.lock\nDownloading: 100%|██████████| 456k/456k [00:00<00:00, 1.19MB/s]\nINFO:filelock:Lock 140198205200016 released on /Users/pranavnt/.cache/torch/transformers/b35e7cd126cd4229a746b5d5c29a749e8e84438b14bcdb575950584fe33207e8.70bec105b4158ed9a1747fea67a43f5dee97855c64d62b6ec3742f4cfdb5feda.lock\n"
    }
   ],
   "source": [
    "model = ClassificationModel('roberta', 'roberta-base',use_cuda=False)"
   ]
  },
  {
   "cell_type": "code",
   "execution_count": 20,
   "metadata": {
    "tags": []
   },
   "outputs": [
    {
     "output_type": "stream",
     "name": "stderr",
     "text": "INFO:simpletransformers.classification.classification_model: Converting to features started. Cache is not used.\n  0%|          | 0/180 [00:00<?, ?it/s]\n"
    },
    {
     "output_type": "error",
     "ename": "TypeError",
     "evalue": "can't pickle AddedToken objects",
     "traceback": [
      "\u001b[0;31m---------------------------------------------------------------------------\u001b[0m",
      "\u001b[0;31mTypeError\u001b[0m                                 Traceback (most recent call last)",
      "\u001b[0;32m<ipython-input-20-faa73d597f69>\u001b[0m in \u001b[0;36m<module>\u001b[0;34m\u001b[0m\n\u001b[0;32m----> 1\u001b[0;31m \u001b[0mmodel\u001b[0m\u001b[0;34m.\u001b[0m\u001b[0mtrain_model\u001b[0m\u001b[0;34m(\u001b[0m\u001b[0mtrain_data\u001b[0m\u001b[0;34m)\u001b[0m\u001b[0;34m\u001b[0m\u001b[0;34m\u001b[0m\u001b[0m\n\u001b[0m",
      "\u001b[0;32m~/opt/anaconda3/lib/python3.7/site-packages/simpletransformers/classification/classification_model.py\u001b[0m in \u001b[0;36mtrain_model\u001b[0;34m(self, train_df, multi_label, output_dir, show_running_loss, args, eval_df, verbose, **kwargs)\u001b[0m\n\u001b[1;32m    285\u001b[0m                     \u001b[0;32mfor\u001b[0m \u001b[0mi\u001b[0m\u001b[0;34m,\u001b[0m \u001b[0;34m(\u001b[0m\u001b[0mtext\u001b[0m\u001b[0;34m,\u001b[0m \u001b[0mlabel\u001b[0m\u001b[0;34m)\u001b[0m \u001b[0;32min\u001b[0m \u001b[0menumerate\u001b[0m\u001b[0;34m(\u001b[0m\u001b[0mzip\u001b[0m\u001b[0;34m(\u001b[0m\u001b[0mtrain_df\u001b[0m\u001b[0;34m.\u001b[0m\u001b[0miloc\u001b[0m\u001b[0;34m[\u001b[0m\u001b[0;34m:\u001b[0m\u001b[0;34m,\u001b[0m \u001b[0;36m0\u001b[0m\u001b[0;34m]\u001b[0m\u001b[0;34m,\u001b[0m \u001b[0mtrain_df\u001b[0m\u001b[0;34m.\u001b[0m\u001b[0miloc\u001b[0m\u001b[0;34m[\u001b[0m\u001b[0;34m:\u001b[0m\u001b[0;34m,\u001b[0m \u001b[0;36m1\u001b[0m\u001b[0;34m]\u001b[0m\u001b[0;34m)\u001b[0m\u001b[0;34m)\u001b[0m\u001b[0;34m\u001b[0m\u001b[0;34m\u001b[0m\u001b[0m\n\u001b[1;32m    286\u001b[0m                 ]\n\u001b[0;32m--> 287\u001b[0;31m             \u001b[0mtrain_dataset\u001b[0m \u001b[0;34m=\u001b[0m \u001b[0mself\u001b[0m\u001b[0;34m.\u001b[0m\u001b[0mload_and_cache_examples\u001b[0m\u001b[0;34m(\u001b[0m\u001b[0mtrain_examples\u001b[0m\u001b[0;34m,\u001b[0m \u001b[0mverbose\u001b[0m\u001b[0;34m=\u001b[0m\u001b[0mverbose\u001b[0m\u001b[0;34m)\u001b[0m\u001b[0;34m\u001b[0m\u001b[0;34m\u001b[0m\u001b[0m\n\u001b[0m\u001b[1;32m    288\u001b[0m         \u001b[0mtrain_sampler\u001b[0m \u001b[0;34m=\u001b[0m \u001b[0mRandomSampler\u001b[0m\u001b[0;34m(\u001b[0m\u001b[0mtrain_dataset\u001b[0m\u001b[0;34m)\u001b[0m\u001b[0;34m\u001b[0m\u001b[0;34m\u001b[0m\u001b[0m\n\u001b[1;32m    289\u001b[0m         train_dataloader = DataLoader(\n",
      "\u001b[0;32m~/opt/anaconda3/lib/python3.7/site-packages/simpletransformers/classification/classification_model.py\u001b[0m in \u001b[0;36mload_and_cache_examples\u001b[0;34m(self, examples, evaluate, no_cache, multi_label, verbose, silent)\u001b[0m\n\u001b[1;32m    936\u001b[0m                 \u001b[0mstride\u001b[0m\u001b[0;34m=\u001b[0m\u001b[0margs\u001b[0m\u001b[0;34m.\u001b[0m\u001b[0mstride\u001b[0m\u001b[0;34m,\u001b[0m\u001b[0;34m\u001b[0m\u001b[0;34m\u001b[0m\u001b[0m\n\u001b[1;32m    937\u001b[0m                 \u001b[0madd_prefix_space\u001b[0m\u001b[0;34m=\u001b[0m\u001b[0mbool\u001b[0m\u001b[0;34m(\u001b[0m\u001b[0margs\u001b[0m\u001b[0;34m.\u001b[0m\u001b[0mmodel_type\u001b[0m \u001b[0;32min\u001b[0m \u001b[0;34m[\u001b[0m\u001b[0;34m\"roberta\"\u001b[0m\u001b[0;34m,\u001b[0m \u001b[0;34m\"camembert\"\u001b[0m\u001b[0;34m,\u001b[0m \u001b[0;34m\"xlmroberta\"\u001b[0m\u001b[0;34m,\u001b[0m \u001b[0;34m\"longformer\"\u001b[0m\u001b[0;34m]\u001b[0m\u001b[0;34m)\u001b[0m\u001b[0;34m,\u001b[0m\u001b[0;34m\u001b[0m\u001b[0;34m\u001b[0m\u001b[0m\n\u001b[0;32m--> 938\u001b[0;31m                 \u001b[0margs\u001b[0m\u001b[0;34m=\u001b[0m\u001b[0margs\u001b[0m\u001b[0;34m,\u001b[0m\u001b[0;34m\u001b[0m\u001b[0;34m\u001b[0m\u001b[0m\n\u001b[0m\u001b[1;32m    939\u001b[0m             )\n\u001b[1;32m    940\u001b[0m             \u001b[0;32mif\u001b[0m \u001b[0mverbose\u001b[0m \u001b[0;32mand\u001b[0m \u001b[0margs\u001b[0m\u001b[0;34m.\u001b[0m\u001b[0msliding_window\u001b[0m\u001b[0;34m:\u001b[0m\u001b[0;34m\u001b[0m\u001b[0;34m\u001b[0m\u001b[0m\n",
      "\u001b[0;32m~/opt/anaconda3/lib/python3.7/site-packages/simpletransformers/classification/classification_utils.py\u001b[0m in \u001b[0;36mconvert_examples_to_features\u001b[0;34m(examples, max_seq_length, tokenizer, output_mode, cls_token_at_end, sep_token_extra, pad_on_left, cls_token, sep_token, pad_token, sequence_a_segment_id, sequence_b_segment_id, cls_token_segment_id, pad_token_segment_id, mask_padding_with_zero, process_count, multi_label, silent, use_multiprocessing, sliding_window, flatten, stride, add_prefix_space, args)\u001b[0m\n\u001b[1;32m    389\u001b[0m                         \u001b[0mp\u001b[0m\u001b[0;34m.\u001b[0m\u001b[0mimap\u001b[0m\u001b[0;34m(\u001b[0m\u001b[0mconvert_example_to_feature\u001b[0m\u001b[0;34m,\u001b[0m \u001b[0mexamples\u001b[0m\u001b[0;34m,\u001b[0m \u001b[0mchunksize\u001b[0m\u001b[0;34m=\u001b[0m\u001b[0margs\u001b[0m\u001b[0;34m.\u001b[0m\u001b[0mmultiprocessing_chunksize\u001b[0m\u001b[0;34m)\u001b[0m\u001b[0;34m,\u001b[0m\u001b[0;34m\u001b[0m\u001b[0;34m\u001b[0m\u001b[0m\n\u001b[1;32m    390\u001b[0m                         \u001b[0mtotal\u001b[0m\u001b[0;34m=\u001b[0m\u001b[0mlen\u001b[0m\u001b[0;34m(\u001b[0m\u001b[0mexamples\u001b[0m\u001b[0;34m)\u001b[0m\u001b[0;34m,\u001b[0m\u001b[0;34m\u001b[0m\u001b[0;34m\u001b[0m\u001b[0m\n\u001b[0;32m--> 391\u001b[0;31m                         \u001b[0mdisable\u001b[0m\u001b[0;34m=\u001b[0m\u001b[0msilent\u001b[0m\u001b[0;34m,\u001b[0m\u001b[0;34m\u001b[0m\u001b[0;34m\u001b[0m\u001b[0m\n\u001b[0m\u001b[1;32m    392\u001b[0m                     )\n\u001b[1;32m    393\u001b[0m                 )\n",
      "\u001b[0;32m~/opt/anaconda3/lib/python3.7/site-packages/tqdm/std.py\u001b[0m in \u001b[0;36m__iter__\u001b[0;34m(self)\u001b[0m\n\u001b[1;32m   1128\u001b[0m \u001b[0;34m\u001b[0m\u001b[0m\n\u001b[1;32m   1129\u001b[0m         \u001b[0;32mtry\u001b[0m\u001b[0;34m:\u001b[0m\u001b[0;34m\u001b[0m\u001b[0;34m\u001b[0m\u001b[0m\n\u001b[0;32m-> 1130\u001b[0;31m             \u001b[0;32mfor\u001b[0m \u001b[0mobj\u001b[0m \u001b[0;32min\u001b[0m \u001b[0miterable\u001b[0m\u001b[0;34m:\u001b[0m\u001b[0;34m\u001b[0m\u001b[0;34m\u001b[0m\u001b[0m\n\u001b[0m\u001b[1;32m   1131\u001b[0m                 \u001b[0;32myield\u001b[0m \u001b[0mobj\u001b[0m\u001b[0;34m\u001b[0m\u001b[0;34m\u001b[0m\u001b[0m\n\u001b[1;32m   1132\u001b[0m                 \u001b[0;31m# Update and possibly print the progressbar.\u001b[0m\u001b[0;34m\u001b[0m\u001b[0;34m\u001b[0m\u001b[0;34m\u001b[0m\u001b[0m\n",
      "\u001b[0;32m~/opt/anaconda3/lib/python3.7/multiprocessing/pool.py\u001b[0m in \u001b[0;36m<genexpr>\u001b[0;34m(.0)\u001b[0m\n\u001b[1;32m    323\u001b[0m                     \u001b[0mresult\u001b[0m\u001b[0;34m.\u001b[0m\u001b[0m_set_length\u001b[0m\u001b[0;34m\u001b[0m\u001b[0;34m\u001b[0m\u001b[0m\n\u001b[1;32m    324\u001b[0m                 ))\n\u001b[0;32m--> 325\u001b[0;31m             \u001b[0;32mreturn\u001b[0m \u001b[0;34m(\u001b[0m\u001b[0mitem\u001b[0m \u001b[0;32mfor\u001b[0m \u001b[0mchunk\u001b[0m \u001b[0;32min\u001b[0m \u001b[0mresult\u001b[0m \u001b[0;32mfor\u001b[0m \u001b[0mitem\u001b[0m \u001b[0;32min\u001b[0m \u001b[0mchunk\u001b[0m\u001b[0;34m)\u001b[0m\u001b[0;34m\u001b[0m\u001b[0;34m\u001b[0m\u001b[0m\n\u001b[0m\u001b[1;32m    326\u001b[0m \u001b[0;34m\u001b[0m\u001b[0m\n\u001b[1;32m    327\u001b[0m     \u001b[0;32mdef\u001b[0m \u001b[0mimap_unordered\u001b[0m\u001b[0;34m(\u001b[0m\u001b[0mself\u001b[0m\u001b[0;34m,\u001b[0m \u001b[0mfunc\u001b[0m\u001b[0;34m,\u001b[0m \u001b[0miterable\u001b[0m\u001b[0;34m,\u001b[0m \u001b[0mchunksize\u001b[0m\u001b[0;34m=\u001b[0m\u001b[0;36m1\u001b[0m\u001b[0;34m)\u001b[0m\u001b[0;34m:\u001b[0m\u001b[0;34m\u001b[0m\u001b[0;34m\u001b[0m\u001b[0m\n",
      "\u001b[0;32m~/opt/anaconda3/lib/python3.7/multiprocessing/pool.py\u001b[0m in \u001b[0;36mnext\u001b[0;34m(self, timeout)\u001b[0m\n\u001b[1;32m    746\u001b[0m         \u001b[0;32mif\u001b[0m \u001b[0msuccess\u001b[0m\u001b[0;34m:\u001b[0m\u001b[0;34m\u001b[0m\u001b[0;34m\u001b[0m\u001b[0m\n\u001b[1;32m    747\u001b[0m             \u001b[0;32mreturn\u001b[0m \u001b[0mvalue\u001b[0m\u001b[0;34m\u001b[0m\u001b[0;34m\u001b[0m\u001b[0m\n\u001b[0;32m--> 748\u001b[0;31m         \u001b[0;32mraise\u001b[0m \u001b[0mvalue\u001b[0m\u001b[0;34m\u001b[0m\u001b[0;34m\u001b[0m\u001b[0m\n\u001b[0m\u001b[1;32m    749\u001b[0m \u001b[0;34m\u001b[0m\u001b[0m\n\u001b[1;32m    750\u001b[0m     \u001b[0m__next__\u001b[0m \u001b[0;34m=\u001b[0m \u001b[0mnext\u001b[0m                    \u001b[0;31m# XXX\u001b[0m\u001b[0;34m\u001b[0m\u001b[0;34m\u001b[0m\u001b[0m\n",
      "\u001b[0;32m~/opt/anaconda3/lib/python3.7/multiprocessing/pool.py\u001b[0m in \u001b[0;36m_handle_tasks\u001b[0;34m(taskqueue, put, outqueue, pool, cache)\u001b[0m\n\u001b[1;32m    429\u001b[0m                         \u001b[0;32mbreak\u001b[0m\u001b[0;34m\u001b[0m\u001b[0;34m\u001b[0m\u001b[0m\n\u001b[1;32m    430\u001b[0m                     \u001b[0;32mtry\u001b[0m\u001b[0;34m:\u001b[0m\u001b[0;34m\u001b[0m\u001b[0;34m\u001b[0m\u001b[0m\n\u001b[0;32m--> 431\u001b[0;31m                         \u001b[0mput\u001b[0m\u001b[0;34m(\u001b[0m\u001b[0mtask\u001b[0m\u001b[0;34m)\u001b[0m\u001b[0;34m\u001b[0m\u001b[0;34m\u001b[0m\u001b[0m\n\u001b[0m\u001b[1;32m    432\u001b[0m                     \u001b[0;32mexcept\u001b[0m \u001b[0mException\u001b[0m \u001b[0;32mas\u001b[0m \u001b[0me\u001b[0m\u001b[0;34m:\u001b[0m\u001b[0;34m\u001b[0m\u001b[0;34m\u001b[0m\u001b[0m\n\u001b[1;32m    433\u001b[0m                         \u001b[0mjob\u001b[0m\u001b[0;34m,\u001b[0m \u001b[0midx\u001b[0m \u001b[0;34m=\u001b[0m \u001b[0mtask\u001b[0m\u001b[0;34m[\u001b[0m\u001b[0;34m:\u001b[0m\u001b[0;36m2\u001b[0m\u001b[0;34m]\u001b[0m\u001b[0;34m\u001b[0m\u001b[0;34m\u001b[0m\u001b[0m\n",
      "\u001b[0;32m~/opt/anaconda3/lib/python3.7/multiprocessing/connection.py\u001b[0m in \u001b[0;36msend\u001b[0;34m(self, obj)\u001b[0m\n\u001b[1;32m    204\u001b[0m         \u001b[0mself\u001b[0m\u001b[0;34m.\u001b[0m\u001b[0m_check_closed\u001b[0m\u001b[0;34m(\u001b[0m\u001b[0;34m)\u001b[0m\u001b[0;34m\u001b[0m\u001b[0;34m\u001b[0m\u001b[0m\n\u001b[1;32m    205\u001b[0m         \u001b[0mself\u001b[0m\u001b[0;34m.\u001b[0m\u001b[0m_check_writable\u001b[0m\u001b[0;34m(\u001b[0m\u001b[0;34m)\u001b[0m\u001b[0;34m\u001b[0m\u001b[0;34m\u001b[0m\u001b[0m\n\u001b[0;32m--> 206\u001b[0;31m         \u001b[0mself\u001b[0m\u001b[0;34m.\u001b[0m\u001b[0m_send_bytes\u001b[0m\u001b[0;34m(\u001b[0m\u001b[0m_ForkingPickler\u001b[0m\u001b[0;34m.\u001b[0m\u001b[0mdumps\u001b[0m\u001b[0;34m(\u001b[0m\u001b[0mobj\u001b[0m\u001b[0;34m)\u001b[0m\u001b[0;34m)\u001b[0m\u001b[0;34m\u001b[0m\u001b[0;34m\u001b[0m\u001b[0m\n\u001b[0m\u001b[1;32m    207\u001b[0m \u001b[0;34m\u001b[0m\u001b[0m\n\u001b[1;32m    208\u001b[0m     \u001b[0;32mdef\u001b[0m \u001b[0mrecv_bytes\u001b[0m\u001b[0;34m(\u001b[0m\u001b[0mself\u001b[0m\u001b[0;34m,\u001b[0m \u001b[0mmaxlength\u001b[0m\u001b[0;34m=\u001b[0m\u001b[0;32mNone\u001b[0m\u001b[0;34m)\u001b[0m\u001b[0;34m:\u001b[0m\u001b[0;34m\u001b[0m\u001b[0;34m\u001b[0m\u001b[0m\n",
      "\u001b[0;32m~/opt/anaconda3/lib/python3.7/multiprocessing/reduction.py\u001b[0m in \u001b[0;36mdumps\u001b[0;34m(cls, obj, protocol)\u001b[0m\n\u001b[1;32m     49\u001b[0m     \u001b[0;32mdef\u001b[0m \u001b[0mdumps\u001b[0m\u001b[0;34m(\u001b[0m\u001b[0mcls\u001b[0m\u001b[0;34m,\u001b[0m \u001b[0mobj\u001b[0m\u001b[0;34m,\u001b[0m \u001b[0mprotocol\u001b[0m\u001b[0;34m=\u001b[0m\u001b[0;32mNone\u001b[0m\u001b[0;34m)\u001b[0m\u001b[0;34m:\u001b[0m\u001b[0;34m\u001b[0m\u001b[0;34m\u001b[0m\u001b[0m\n\u001b[1;32m     50\u001b[0m         \u001b[0mbuf\u001b[0m \u001b[0;34m=\u001b[0m \u001b[0mio\u001b[0m\u001b[0;34m.\u001b[0m\u001b[0mBytesIO\u001b[0m\u001b[0;34m(\u001b[0m\u001b[0;34m)\u001b[0m\u001b[0;34m\u001b[0m\u001b[0;34m\u001b[0m\u001b[0m\n\u001b[0;32m---> 51\u001b[0;31m         \u001b[0mcls\u001b[0m\u001b[0;34m(\u001b[0m\u001b[0mbuf\u001b[0m\u001b[0;34m,\u001b[0m \u001b[0mprotocol\u001b[0m\u001b[0;34m)\u001b[0m\u001b[0;34m.\u001b[0m\u001b[0mdump\u001b[0m\u001b[0;34m(\u001b[0m\u001b[0mobj\u001b[0m\u001b[0;34m)\u001b[0m\u001b[0;34m\u001b[0m\u001b[0;34m\u001b[0m\u001b[0m\n\u001b[0m\u001b[1;32m     52\u001b[0m         \u001b[0;32mreturn\u001b[0m \u001b[0mbuf\u001b[0m\u001b[0;34m.\u001b[0m\u001b[0mgetbuffer\u001b[0m\u001b[0;34m(\u001b[0m\u001b[0;34m)\u001b[0m\u001b[0;34m\u001b[0m\u001b[0;34m\u001b[0m\u001b[0m\n\u001b[1;32m     53\u001b[0m \u001b[0;34m\u001b[0m\u001b[0m\n",
      "\u001b[0;31mTypeError\u001b[0m: can't pickle AddedToken objects"
     ]
    }
   ],
   "source": [
    "model.train_model(train_data)"
   ]
  },
  {
   "cell_type": "code",
   "execution_count": null,
   "metadata": {},
   "outputs": [],
   "source": []
  }
 ],
 "metadata": {
  "kernelspec": {
   "display_name": "Python 3",
   "language": "python",
   "name": "python3"
  },
  "language_info": {
   "codemirror_mode": {
    "name": "ipython",
    "version": 3
   },
   "file_extension": ".py",
   "mimetype": "text/x-python",
   "name": "python",
   "nbconvert_exporter": "python",
   "pygments_lexer": "ipython3",
   "version": "3.7.6-final"
  }
 },
 "nbformat": 4,
 "nbformat_minor": 4
}