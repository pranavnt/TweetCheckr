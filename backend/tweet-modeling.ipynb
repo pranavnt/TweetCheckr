{
 "cells": [
  {
   "cell_type": "code",
   "execution_count": 1,
   "metadata": {},
   "outputs": [],
   "source": [
    "import pandas as pd\n",
    "from sklearn.model_selection import train_test_split\n",
    "from tqdm import tqdm_notebook"
   ]
  },
  {
   "cell_type": "code",
   "execution_count": 2,
   "metadata": {},
   "outputs": [],
   "source": [
    "data = pd.read_csv('dataset.csv')"
   ]
  },
  {
   "cell_type": "code",
   "execution_count": 3,
   "metadata": {},
   "outputs": [],
   "source": [
    "data = data.sample(frac=1).reset_index(drop=True)"
   ]
  },
  {
   "cell_type": "code",
   "execution_count": 4,
   "metadata": {},
   "outputs": [],
   "source": [
    "columns_titles = [\"Tweet\", \"Label\"]\n",
    "data = data.reindex(columns=columns_titles)"
   ]
  },
  {
   "cell_type": "code",
   "execution_count": 5,
   "metadata": {},
   "outputs": [],
   "source": [
    "data = pd.concat([data,pd.DataFrame(data['Label'])],axis=1)"
   ]
  },
  {
   "cell_type": "code",
   "execution_count": 6,
   "metadata": {},
   "outputs": [],
   "source": [
    "train_data = data.head(int(225*0.8))"
   ]
  },
  {
   "cell_type": "code",
   "execution_count": 7,
   "metadata": {},
   "outputs": [],
   "source": [
    "test_data = data.tail(int(225*0.2))"
   ]
  },
  {
   "cell_type": "code",
   "execution_count": 8,
   "metadata": {},
   "outputs": [
    {
     "output_type": "display_data",
     "data": {
      "text/plain": "                                                 Tweet  Label  Label\n0    \"RT @dwnews: \"\"The government is useless. They...      1      1\n1    RT @TheAtlantic: Growing numbers of people in ...      0      0\n2    RT @annafifield: A person has died of coronavi...      1      1\n3    RT @estevez_damiana: @DeZurdaTeam @DiazCanelB ...      0      0\n4    RT @Dianacuba20191: @DeZurdaTeam @DiazCanelB @...      1      1\n..                                                 ...    ...    ...\n175  RT @balajis: The #coronavirus has now killed m...      0      0\n176  RT @AnitaFernandex: @DeZurdaTeam @DiazCanelB @...      1      1\n177  RT @KenRoth: One of the first Chinese doctors ...      0      0\n178  RT @AJEnglish: Why anger over the Hong Kong go...      1      1\n179  \"RT @QuickTake: \"\"If the government does not s...      0      0\n\n[180 rows x 3 columns]",
      "text/html": "<div>\n<style scoped>\n    .dataframe tbody tr th:only-of-type {\n        vertical-align: middle;\n    }\n\n    .dataframe tbody tr th {\n        vertical-align: top;\n    }\n\n    .dataframe thead th {\n        text-align: right;\n    }\n</style>\n<table border=\"1\" class=\"dataframe\">\n  <thead>\n    <tr style=\"text-align: right;\">\n      <th></th>\n      <th>Tweet</th>\n      <th>Label</th>\n      <th>Label</th>\n    </tr>\n  </thead>\n  <tbody>\n    <tr>\n      <th>0</th>\n      <td>\"RT @dwnews: \"\"The government is useless. They...</td>\n      <td>1</td>\n      <td>1</td>\n    </tr>\n    <tr>\n      <th>1</th>\n      <td>RT @TheAtlantic: Growing numbers of people in ...</td>\n      <td>0</td>\n      <td>0</td>\n    </tr>\n    <tr>\n      <th>2</th>\n      <td>RT @annafifield: A person has died of coronavi...</td>\n      <td>1</td>\n      <td>1</td>\n    </tr>\n    <tr>\n      <th>3</th>\n      <td>RT @estevez_damiana: @DeZurdaTeam @DiazCanelB ...</td>\n      <td>0</td>\n      <td>0</td>\n    </tr>\n    <tr>\n      <th>4</th>\n      <td>RT @Dianacuba20191: @DeZurdaTeam @DiazCanelB @...</td>\n      <td>1</td>\n      <td>1</td>\n    </tr>\n    <tr>\n      <th>...</th>\n      <td>...</td>\n      <td>...</td>\n      <td>...</td>\n    </tr>\n    <tr>\n      <th>175</th>\n      <td>RT @balajis: The #coronavirus has now killed m...</td>\n      <td>0</td>\n      <td>0</td>\n    </tr>\n    <tr>\n      <th>176</th>\n      <td>RT @AnitaFernandex: @DeZurdaTeam @DiazCanelB @...</td>\n      <td>1</td>\n      <td>1</td>\n    </tr>\n    <tr>\n      <th>177</th>\n      <td>RT @KenRoth: One of the first Chinese doctors ...</td>\n      <td>0</td>\n      <td>0</td>\n    </tr>\n    <tr>\n      <th>178</th>\n      <td>RT @AJEnglish: Why anger over the Hong Kong go...</td>\n      <td>1</td>\n      <td>1</td>\n    </tr>\n    <tr>\n      <th>179</th>\n      <td>\"RT @QuickTake: \"\"If the government does not s...</td>\n      <td>0</td>\n      <td>0</td>\n    </tr>\n  </tbody>\n</table>\n<p>180 rows × 3 columns</p>\n</div>"
     },
     "metadata": {}
    },
    {
     "output_type": "display_data",
     "data": {
      "text/plain": "                                                 Tweet  Label  Label\n181  RT @vilmadiazcuba: @DeZurdaTeam @DiazCanelB @m...      0      0\n182  RT @ABC: Hundreds of Hong Kong hospital worker...      0      0\n183  RT @Independent: Hong Kong hospital workers st...      0      0\n184  RT @ChannelNewsAsia: Hong Kong medical workers...      1      1\n185  RT @MailOnline: 2,400 medical workers go on st...      0      0\n186  RT @alfonslopeztena: Hundreds of Hong Kong med...      0      0\n187  RT @MarioFernndezV2: @DeZurdaTeam @DiazCanelB ...      1      1\n188  RT @AmandadeCuba1: @DeZurdaTeam @DiazCanelB @m...      0      0\n189  RT @frontlinepbs: As the number of cases of th...      0      0\n190  @TheEconomist The latest coronavirus cases as ...      0      0\n191  @DailySabah My herbal mixture research for the...      0      0\n192  RT @AlmaDelaSierra1: @DeZurdaTeam @DiazCanelB ...      1      1\n193  @CrushTheStreet #SARS 2.0 #Coronavirus #2019nC...      0      0\n194  RT @ABCWorldNews: Hundreds of Hong Kong hospit...      1      1\n195  RT @Erik32480523: @VictoriaALC @DeZurdaTeam @D...      1      1\n196  @_10kanee @spectatorindex BREAKING: Coronaviru...      0      0\n197  RT @ABCWorldNews: Hundreds of Hong Kong hospit...      1      1\n198  RT @HawleyMO: #China thinks efforts to stop #c...      0      0\n199  RT @faznet: Der chinesische Augenarzt Li #Wenl...      0      0\n200  RT @business: Here's the latest on coronavirus...      0      0\n201  RT @alfonslopeztena: Hundreds of Hong Kong med...      1      1\n202  RT @LouDobbs: Unexplained Spike. China reports...      0      0\n203  RT @EevaPaavilainen: @OnlyNomaly @zlj517 @MFA_...      0      0\n204  RT @business: Here's the latest on coronavirus...      0      0\n205  RT @ABCWorldNews: Hundreds of Hong Kong hospit...      1      1\n206  RT @ABCWorldNews: Hundreds of Hong Kong hospit...      1      1\n207  RT @ABC: Hundreds of Hong Kong hospital worker...      0      0\n208  RT @guardian: 'Shameless': outrage in China ov...      0      0\n209  RT @Independent: Hong Kong hospital workers st...      1      1\n210  RT @NomenChanX: @ReutersWorld Amazon se retira...      0      0\n211  RT @AJEnglish: Why anger over the Hong Kong go...      1      1\n212  RT @AJEnglish: Why anger over the Hong Kong go...      0      0\n213  RT @AFP: Hong Kong medical workers strike, dem...      1      1\n214  RT @SkyNews: As Hong Kong faces #coronavirus, ...      0      0\n215  RT @alfonslopeztena: Hundreds of Hong Kong med...      1      1\n216  RT @globalnews: More than 2,000 hospital worke...      0      0\n217  | Asignan cinco hospitales para diagnstico de ...      0      0\n218  RT @WTKR3: #Coronavirus: Thousands of Hong Kon...      1      1\n219  RT @ABC: Hundreds of Hong Kong hospital worker...      1      1\n220  RT @Independent: Hong Kong hospital workers st...      1      1\n221  RT @sehof: The censorship instructions with re...      0      0\n222  RT @alfonslopeztena: The political cost of the...      1      1\n223  RT @AJEnglish: Why anger over the Hong Kong go...      1      1\n224  RT @jennablan: TWO WEEKS AT SEA: Cruise ship s...      0      0\n225  RT @nytimesworld: More than 2,500 medical work...      1      1",
      "text/html": "<div>\n<style scoped>\n    .dataframe tbody tr th:only-of-type {\n        vertical-align: middle;\n    }\n\n    .dataframe tbody tr th {\n        vertical-align: top;\n    }\n\n    .dataframe thead th {\n        text-align: right;\n    }\n</style>\n<table border=\"1\" class=\"dataframe\">\n  <thead>\n    <tr style=\"text-align: right;\">\n      <th></th>\n      <th>Tweet</th>\n      <th>Label</th>\n      <th>Label</th>\n    </tr>\n  </thead>\n  <tbody>\n    <tr>\n      <th>181</th>\n      <td>RT @vilmadiazcuba: @DeZurdaTeam @DiazCanelB @m...</td>\n      <td>0</td>\n      <td>0</td>\n    </tr>\n    <tr>\n      <th>182</th>\n      <td>RT @ABC: Hundreds of Hong Kong hospital worker...</td>\n      <td>0</td>\n      <td>0</td>\n    </tr>\n    <tr>\n      <th>183</th>\n      <td>RT @Independent: Hong Kong hospital workers st...</td>\n      <td>0</td>\n      <td>0</td>\n    </tr>\n    <tr>\n      <th>184</th>\n      <td>RT @ChannelNewsAsia: Hong Kong medical workers...</td>\n      <td>1</td>\n      <td>1</td>\n    </tr>\n    <tr>\n      <th>185</th>\n      <td>RT @MailOnline: 2,400 medical workers go on st...</td>\n      <td>0</td>\n      <td>0</td>\n    </tr>\n    <tr>\n      <th>186</th>\n      <td>RT @alfonslopeztena: Hundreds of Hong Kong med...</td>\n      <td>0</td>\n      <td>0</td>\n    </tr>\n    <tr>\n      <th>187</th>\n      <td>RT @MarioFernndezV2: @DeZurdaTeam @DiazCanelB ...</td>\n      <td>1</td>\n      <td>1</td>\n    </tr>\n    <tr>\n      <th>188</th>\n      <td>RT @AmandadeCuba1: @DeZurdaTeam @DiazCanelB @m...</td>\n      <td>0</td>\n      <td>0</td>\n    </tr>\n    <tr>\n      <th>189</th>\n      <td>RT @frontlinepbs: As the number of cases of th...</td>\n      <td>0</td>\n      <td>0</td>\n    </tr>\n    <tr>\n      <th>190</th>\n      <td>@TheEconomist The latest coronavirus cases as ...</td>\n      <td>0</td>\n      <td>0</td>\n    </tr>\n    <tr>\n      <th>191</th>\n      <td>@DailySabah My herbal mixture research for the...</td>\n      <td>0</td>\n      <td>0</td>\n    </tr>\n    <tr>\n      <th>192</th>\n      <td>RT @AlmaDelaSierra1: @DeZurdaTeam @DiazCanelB ...</td>\n      <td>1</td>\n      <td>1</td>\n    </tr>\n    <tr>\n      <th>193</th>\n      <td>@CrushTheStreet #SARS 2.0 #Coronavirus #2019nC...</td>\n      <td>0</td>\n      <td>0</td>\n    </tr>\n    <tr>\n      <th>194</th>\n      <td>RT @ABCWorldNews: Hundreds of Hong Kong hospit...</td>\n      <td>1</td>\n      <td>1</td>\n    </tr>\n    <tr>\n      <th>195</th>\n      <td>RT @Erik32480523: @VictoriaALC @DeZurdaTeam @D...</td>\n      <td>1</td>\n      <td>1</td>\n    </tr>\n    <tr>\n      <th>196</th>\n      <td>@_10kanee @spectatorindex BREAKING: Coronaviru...</td>\n      <td>0</td>\n      <td>0</td>\n    </tr>\n    <tr>\n      <th>197</th>\n      <td>RT @ABCWorldNews: Hundreds of Hong Kong hospit...</td>\n      <td>1</td>\n      <td>1</td>\n    </tr>\n    <tr>\n      <th>198</th>\n      <td>RT @HawleyMO: #China thinks efforts to stop #c...</td>\n      <td>0</td>\n      <td>0</td>\n    </tr>\n    <tr>\n      <th>199</th>\n      <td>RT @faznet: Der chinesische Augenarzt Li #Wenl...</td>\n      <td>0</td>\n      <td>0</td>\n    </tr>\n    <tr>\n      <th>200</th>\n      <td>RT @business: Here's the latest on coronavirus...</td>\n      <td>0</td>\n      <td>0</td>\n    </tr>\n    <tr>\n      <th>201</th>\n      <td>RT @alfonslopeztena: Hundreds of Hong Kong med...</td>\n      <td>1</td>\n      <td>1</td>\n    </tr>\n    <tr>\n      <th>202</th>\n      <td>RT @LouDobbs: Unexplained Spike. China reports...</td>\n      <td>0</td>\n      <td>0</td>\n    </tr>\n    <tr>\n      <th>203</th>\n      <td>RT @EevaPaavilainen: @OnlyNomaly @zlj517 @MFA_...</td>\n      <td>0</td>\n      <td>0</td>\n    </tr>\n    <tr>\n      <th>204</th>\n      <td>RT @business: Here's the latest on coronavirus...</td>\n      <td>0</td>\n      <td>0</td>\n    </tr>\n    <tr>\n      <th>205</th>\n      <td>RT @ABCWorldNews: Hundreds of Hong Kong hospit...</td>\n      <td>1</td>\n      <td>1</td>\n    </tr>\n    <tr>\n      <th>206</th>\n      <td>RT @ABCWorldNews: Hundreds of Hong Kong hospit...</td>\n      <td>1</td>\n      <td>1</td>\n    </tr>\n    <tr>\n      <th>207</th>\n      <td>RT @ABC: Hundreds of Hong Kong hospital worker...</td>\n      <td>0</td>\n      <td>0</td>\n    </tr>\n    <tr>\n      <th>208</th>\n      <td>RT @guardian: 'Shameless': outrage in China ov...</td>\n      <td>0</td>\n      <td>0</td>\n    </tr>\n    <tr>\n      <th>209</th>\n      <td>RT @Independent: Hong Kong hospital workers st...</td>\n      <td>1</td>\n      <td>1</td>\n    </tr>\n    <tr>\n      <th>210</th>\n      <td>RT @NomenChanX: @ReutersWorld Amazon se retira...</td>\n      <td>0</td>\n      <td>0</td>\n    </tr>\n    <tr>\n      <th>211</th>\n      <td>RT @AJEnglish: Why anger over the Hong Kong go...</td>\n      <td>1</td>\n      <td>1</td>\n    </tr>\n    <tr>\n      <th>212</th>\n      <td>RT @AJEnglish: Why anger over the Hong Kong go...</td>\n      <td>0</td>\n      <td>0</td>\n    </tr>\n    <tr>\n      <th>213</th>\n      <td>RT @AFP: Hong Kong medical workers strike, dem...</td>\n      <td>1</td>\n      <td>1</td>\n    </tr>\n    <tr>\n      <th>214</th>\n      <td>RT @SkyNews: As Hong Kong faces #coronavirus, ...</td>\n      <td>0</td>\n      <td>0</td>\n    </tr>\n    <tr>\n      <th>215</th>\n      <td>RT @alfonslopeztena: Hundreds of Hong Kong med...</td>\n      <td>1</td>\n      <td>1</td>\n    </tr>\n    <tr>\n      <th>216</th>\n      <td>RT @globalnews: More than 2,000 hospital worke...</td>\n      <td>0</td>\n      <td>0</td>\n    </tr>\n    <tr>\n      <th>217</th>\n      <td>| Asignan cinco hospitales para diagnstico de ...</td>\n      <td>0</td>\n      <td>0</td>\n    </tr>\n    <tr>\n      <th>218</th>\n      <td>RT @WTKR3: #Coronavirus: Thousands of Hong Kon...</td>\n      <td>1</td>\n      <td>1</td>\n    </tr>\n    <tr>\n      <th>219</th>\n      <td>RT @ABC: Hundreds of Hong Kong hospital worker...</td>\n      <td>1</td>\n      <td>1</td>\n    </tr>\n    <tr>\n      <th>220</th>\n      <td>RT @Independent: Hong Kong hospital workers st...</td>\n      <td>1</td>\n      <td>1</td>\n    </tr>\n    <tr>\n      <th>221</th>\n      <td>RT @sehof: The censorship instructions with re...</td>\n      <td>0</td>\n      <td>0</td>\n    </tr>\n    <tr>\n      <th>222</th>\n      <td>RT @alfonslopeztena: The political cost of the...</td>\n      <td>1</td>\n      <td>1</td>\n    </tr>\n    <tr>\n      <th>223</th>\n      <td>RT @AJEnglish: Why anger over the Hong Kong go...</td>\n      <td>1</td>\n      <td>1</td>\n    </tr>\n    <tr>\n      <th>224</th>\n      <td>RT @jennablan: TWO WEEKS AT SEA: Cruise ship s...</td>\n      <td>0</td>\n      <td>0</td>\n    </tr>\n    <tr>\n      <th>225</th>\n      <td>RT @nytimesworld: More than 2,500 medical work...</td>\n      <td>1</td>\n      <td>1</td>\n    </tr>\n  </tbody>\n</table>\n</div>"
     },
     "metadata": {}
    }
   ],
   "source": [
    "display(train_data)\n",
    "display(test_data)"
   ]
  }
 ],
 "metadata": {
  "kernelspec": {
   "display_name": "Python 3",
   "language": "python",
   "name": "python3"
  },
  "language_info": {
   "codemirror_mode": {
    "name": "ipython",
    "version": 3
   },
   "file_extension": ".py",
   "mimetype": "text/x-python",
   "name": "python",
   "nbconvert_exporter": "python",
   "pygments_lexer": "ipython3",
   "version": "3.7.6-final"
  }
 },
 "nbformat": 4,
 "nbformat_minor": 4
}